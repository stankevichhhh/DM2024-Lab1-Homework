{
 "cells": [
  {
   "cell_type": "markdown",
   "metadata": {},
   "source": [
    "### Student Information\n",
    "Name: Sofiia Stankevich 妮雅\n",
    "\n",
    "Student ID: S10910630\n",
    "\n",
    "GitHub ID: stankevichhhh"
   ]
  },
  {
   "cell_type": "markdown",
   "metadata": {},
   "source": [
    "---"
   ]
  },
  {
   "cell_type": "markdown",
   "metadata": {},
   "source": [
    "### Instructions"
   ]
  },
  {
   "cell_type": "markdown",
   "metadata": {},
   "source": [
    "1. First: do the **take home** exercises in the [DM2024-Lab1-Master](https://github.com/didiersalazar/DM2024-Lab1-Master.git). You may need to copy some cells from the Lab notebook to this notebook. __This part is worth 20% of your grade.__\n",
    "\n",
    "\n",
    "2. Second: follow the same process from the [DM2024-Lab1-Master](https://github.com/didiersalazar/DM2024-Lab1-Master.git) on **the new dataset**. You don't need to explain all details as we did (some **minimal comments** explaining your code are useful though).  __This part is worth 30% of your grade.__\n",
    "    - Download the [the new dataset](https://huggingface.co/datasets/Senem/Nostalgic_Sentiment_Analysis_of_YouTube_Comments_Data). The dataset contains a `sentiment` and `comment` columns, with the sentiment labels being: 'nostalgia' and 'not nostalgia'. Read the specificiations of the dataset for background details. \n",
    "    - You are allowed to use and modify the `helper` functions in the folder of the first lab session (notice they may need modification) or create your own.\n",
    "\n",
    "\n",
    "3. Third: please attempt the following tasks on **the new dataset**. __This part is worth 30% of your grade.__\n",
    "    - Generate meaningful **new data visualizations**. Refer to online resources and the Data Mining textbook for inspiration and ideas. \n",
    "    - Generate **TF-IDF features** from the tokens of each text. This will generating a document matrix, however, the weights will be computed differently (using the TF-IDF value of each word per document as opposed to the word frequency). Refer to this Scikit-learn [guide](http://scikit-learn.org/stable/modules/generated/sklearn.feature_extraction.text.TfidfVectorizer.html) .\n",
    "    - Implement a simple **Naive Bayes classifier** that automatically classifies the records into their categories. Use both the TF-IDF features and word frequency features to build two seperate classifiers. Note that for the TF-IDF features you might need to use other type of NB classifier different than the one in the Master Notebook. Comment on the differences.  Refer to this [article](https://hub.packtpub.com/implementing-3-naive-bayes-classifiers-in-scikit-learn/).\n",
    "\n",
    "\n",
    "4. Fourth: In the lab, we applied each step really quickly just to illustrate how to work with your dataset. There are somethings that are not ideal or the most efficient/meaningful. Each dataset can be handled differently as well. What are those inefficent parts you noticed? How can you improve the Data preprocessing for these specific datasets? __This part is worth 10% of your grade.__\n",
    "\n",
    "\n",
    "5. Fifth: It's hard for us to follow if your code is messy, so please **tidy up your notebook** and **add minimal comments where needed**. __This part is worth 10% of your grade.__\n",
    "\n",
    "\n",
    "You can submit your homework following these guidelines: [Git Intro & How to hand your homework](https://github.com/didiersalazar/DM2024-Lab1-Master/blob/main/Git%20Intro%20%26%20How%20to%20hand%20your%20homework.ipynb). Make sure to commit and save your changes to your repository __BEFORE the deadline (October 27th 11:59 pm, Sunday)__. "
   ]
  },
  {
   "cell_type": "markdown",
   "metadata": {},
   "source": [
    "Home exercises solutions can be found here: https://github.com/stankevichhhh/DM2024-Lab1-Master"
   ]
  },
  {
   "cell_type": "markdown",
   "metadata": {},
   "source": [
    "## Part 2"
   ]
  },
  {
   "cell_type": "code",
   "execution_count": 26,
   "metadata": {},
   "outputs": [
    {
     "data": {
      "text/html": [
       "<div>\n",
       "<style scoped>\n",
       "    .dataframe tbody tr th:only-of-type {\n",
       "        vertical-align: middle;\n",
       "    }\n",
       "\n",
       "    .dataframe tbody tr th {\n",
       "        vertical-align: top;\n",
       "    }\n",
       "\n",
       "    .dataframe thead th {\n",
       "        text-align: right;\n",
       "    }\n",
       "</style>\n",
       "<table border=\"1\" class=\"dataframe\">\n",
       "  <thead>\n",
       "    <tr style=\"text-align: right;\">\n",
       "      <th></th>\n",
       "      <th>sentiment</th>\n",
       "      <th>comment</th>\n",
       "    </tr>\n",
       "  </thead>\n",
       "  <tbody>\n",
       "    <tr>\n",
       "      <th>0</th>\n",
       "      <td>not nostalgia</td>\n",
       "      <td>He was a singer with a golden voice that I lov...</td>\n",
       "    </tr>\n",
       "    <tr>\n",
       "      <th>1</th>\n",
       "      <td>nostalgia</td>\n",
       "      <td>The mist beautiful voice ever I listened to hi...</td>\n",
       "    </tr>\n",
       "    <tr>\n",
       "      <th>2</th>\n",
       "      <td>nostalgia</td>\n",
       "      <td>I have most of Mr. Reeves songs.  Always love ...</td>\n",
       "    </tr>\n",
       "    <tr>\n",
       "      <th>3</th>\n",
       "      <td>not nostalgia</td>\n",
       "      <td>30 day leave from 1st tour in Viet Nam to conv...</td>\n",
       "    </tr>\n",
       "    <tr>\n",
       "      <th>4</th>\n",
       "      <td>nostalgia</td>\n",
       "      <td>listening to his songs reminds me of my mum wh...</td>\n",
       "    </tr>\n",
       "  </tbody>\n",
       "</table>\n",
       "</div>"
      ],
      "text/plain": [
       "       sentiment                                            comment\n",
       "0  not nostalgia  He was a singer with a golden voice that I lov...\n",
       "1      nostalgia  The mist beautiful voice ever I listened to hi...\n",
       "2      nostalgia  I have most of Mr. Reeves songs.  Always love ...\n",
       "3  not nostalgia  30 day leave from 1st tour in Viet Nam to conv...\n",
       "4      nostalgia  listening to his songs reminds me of my mum wh..."
      ]
     },
     "execution_count": 26,
     "metadata": {},
     "output_type": "execute_result"
    }
   ],
   "source": [
    "import pandas as pd\n",
    "\n",
    "ds = pd.read_csv(\"Nostalgic_Sentiment_Analysis_of_YouTube_Comments_Data.csv\")\n",
    "\n",
    "X = pd.DataFrame(ds)\n",
    "\n",
    "X.head()"
   ]
  },
  {
   "cell_type": "code",
   "execution_count": 27,
   "metadata": {},
   "outputs": [],
   "source": [
    "# add category to the dataframe\n",
    "X[\"category\"] = X[\"sentiment\"].apply(lambda x: 0 if x == \"not nostalgia\" else 1)"
   ]
  },
  {
   "cell_type": "code",
   "execution_count": 28,
   "metadata": {},
   "outputs": [
    {
     "data": {
      "text/html": [
       "<div>\n",
       "<style scoped>\n",
       "    .dataframe tbody tr th:only-of-type {\n",
       "        vertical-align: middle;\n",
       "    }\n",
       "\n",
       "    .dataframe tbody tr th {\n",
       "        vertical-align: top;\n",
       "    }\n",
       "\n",
       "    .dataframe thead th {\n",
       "        text-align: right;\n",
       "    }\n",
       "</style>\n",
       "<table border=\"1\" class=\"dataframe\">\n",
       "  <thead>\n",
       "    <tr style=\"text-align: right;\">\n",
       "      <th></th>\n",
       "      <th>sentiment</th>\n",
       "      <th>comment</th>\n",
       "      <th>category</th>\n",
       "    </tr>\n",
       "  </thead>\n",
       "  <tbody>\n",
       "    <tr>\n",
       "      <th>0</th>\n",
       "      <td>The amoung of missing records is:</td>\n",
       "      <td>The amoung of missing records is:</td>\n",
       "      <td>The amoung of missing records is:</td>\n",
       "    </tr>\n",
       "    <tr>\n",
       "      <th>1</th>\n",
       "      <td>0</td>\n",
       "      <td>0</td>\n",
       "      <td>0</td>\n",
       "    </tr>\n",
       "  </tbody>\n",
       "</table>\n",
       "</div>"
      ],
      "text/plain": [
       "                            sentiment                             comment  \\\n",
       "0  The amoung of missing records is:   The amoung of missing records is:    \n",
       "1                                   0                                   0   \n",
       "\n",
       "                             category  \n",
       "0  The amoung of missing records is:   \n",
       "1                                   0  "
      ]
     },
     "execution_count": 28,
     "metadata": {},
     "output_type": "execute_result"
    }
   ],
   "source": [
    "import helpers.data_mining_helpers as dmh\n",
    "\n",
    "X.isnull().apply(lambda x: dmh.check_missing_values(x))"
   ]
  },
  {
   "cell_type": "code",
   "execution_count": 29,
   "metadata": {},
   "outputs": [
    {
     "data": {
      "text/plain": [
       "1"
      ]
     },
     "execution_count": 29,
     "metadata": {},
     "output_type": "execute_result"
    }
   ],
   "source": [
    "sum(X.duplicated())"
   ]
  },
  {
   "cell_type": "code",
   "execution_count": 30,
   "metadata": {},
   "outputs": [
    {
     "data": {
      "text/html": [
       "<div>\n",
       "<style scoped>\n",
       "    .dataframe tbody tr th:only-of-type {\n",
       "        vertical-align: middle;\n",
       "    }\n",
       "\n",
       "    .dataframe tbody tr th {\n",
       "        vertical-align: top;\n",
       "    }\n",
       "\n",
       "    .dataframe thead th {\n",
       "        text-align: right;\n",
       "    }\n",
       "</style>\n",
       "<table border=\"1\" class=\"dataframe\">\n",
       "  <thead>\n",
       "    <tr style=\"text-align: right;\">\n",
       "      <th></th>\n",
       "      <th>sentiment</th>\n",
       "      <th>comment</th>\n",
       "      <th>category</th>\n",
       "    </tr>\n",
       "  </thead>\n",
       "  <tbody>\n",
       "    <tr>\n",
       "      <th>62</th>\n",
       "      <td>not nostalgia</td>\n",
       "      <td>never heard this song before... WOW What an am...</td>\n",
       "      <td>0</td>\n",
       "    </tr>\n",
       "    <tr>\n",
       "      <th>78</th>\n",
       "      <td>not nostalgia</td>\n",
       "      <td>never heard this song before... WOW What an am...</td>\n",
       "      <td>0</td>\n",
       "    </tr>\n",
       "  </tbody>\n",
       "</table>\n",
       "</div>"
      ],
      "text/plain": [
       "        sentiment                                            comment  category\n",
       "62  not nostalgia  never heard this song before... WOW What an am...         0\n",
       "78  not nostalgia  never heard this song before... WOW What an am...         0"
      ]
     },
     "execution_count": 30,
     "metadata": {},
     "output_type": "execute_result"
    }
   ],
   "source": [
    "X[X.duplicated(keep=False)]"
   ]
  },
  {
   "cell_type": "markdown",
   "metadata": {},
   "source": [
    "The commentary and sentiment are absolutely the same, let's remove one of them."
   ]
  },
  {
   "cell_type": "code",
   "execution_count": 31,
   "metadata": {},
   "outputs": [
    {
     "data": {
      "text/plain": [
       "0"
      ]
     },
     "execution_count": 31,
     "metadata": {},
     "output_type": "execute_result"
    }
   ],
   "source": [
    "X = X.drop_duplicates(keep='last')\n",
    "sum(X.duplicated())"
   ]
  },
  {
   "cell_type": "code",
   "execution_count": 32,
   "metadata": {},
   "outputs": [],
   "source": [
    "import matplotlib.pyplot as plt\n",
    "%matplotlib inline"
   ]
  },
  {
   "cell_type": "code",
   "execution_count": 33,
   "metadata": {},
   "outputs": [
    {
     "data": {
      "text/plain": [
       "sentiment    1499\n",
       "comment      1499\n",
       "category     1499\n",
       "dtype: int64"
      ]
     },
     "execution_count": 33,
     "metadata": {},
     "output_type": "execute_result"
    },
    {
     "data": {
      "image/png": "[encoded data removed]",
      "text/plain": [
       "<Figure size 400x300 with 1 Axes>"
      ]
     },
     "metadata": {},
     "output_type": "display_data"
    }
   ],
   "source": [
    "X.sentiment.value_counts().plot(\n",
    "    kind=\"pie\",\n",
    "    title=\"Category distribution\",\n",
    "    rot=0,\n",
    "    fontsize=11,\n",
    "    figsize=(4, 3),\n",
    ")\n",
    "X.count()"
   ]
  },
  {
   "cell_type": "code",
   "execution_count": 34,
   "metadata": {},
   "outputs": [],
   "source": [
    "X_sample = X.sample(n=1000)"
   ]
  },
  {
   "cell_type": "code",
   "execution_count": 35,
   "metadata": {},
   "outputs": [
    {
     "data": {
      "text/html": [
       "<div>\n",
       "<style scoped>\n",
       "    .dataframe tbody tr th:only-of-type {\n",
       "        vertical-align: middle;\n",
       "    }\n",
       "\n",
       "    .dataframe tbody tr th {\n",
       "        vertical-align: top;\n",
       "    }\n",
       "\n",
       "    .dataframe thead th {\n",
       "        text-align: right;\n",
       "    }\n",
       "</style>\n",
       "<table border=\"1\" class=\"dataframe\">\n",
       "  <thead>\n",
       "    <tr style=\"text-align: right;\">\n",
       "      <th></th>\n",
       "      <th>sentiment</th>\n",
       "      <th>comment</th>\n",
       "      <th>category</th>\n",
       "    </tr>\n",
       "  </thead>\n",
       "  <tbody>\n",
       "    <tr>\n",
       "      <th>1208</th>\n",
       "      <td>nostalgia</td>\n",
       "      <td>I get flashbacks from this song when I was a c...</td>\n",
       "      <td>1</td>\n",
       "    </tr>\n",
       "    <tr>\n",
       "      <th>1442</th>\n",
       "      <td>nostalgia</td>\n",
       "      <td>The song my wife and I danced to at our Weddin...</td>\n",
       "      <td>1</td>\n",
       "    </tr>\n",
       "    <tr>\n",
       "      <th>240</th>\n",
       "      <td>nostalgia</td>\n",
       "      <td>Ya I have got some old pictures my mom took of...</td>\n",
       "      <td>1</td>\n",
       "    </tr>\n",
       "    <tr>\n",
       "      <th>1404</th>\n",
       "      <td>nostalgia</td>\n",
       "      <td>I remember listening this track down at the sk...</td>\n",
       "      <td>1</td>\n",
       "    </tr>\n",
       "    <tr>\n",
       "      <th>1003</th>\n",
       "      <td>nostalgia</td>\n",
       "      <td>These days I really wish It could be yesterday...</td>\n",
       "      <td>1</td>\n",
       "    </tr>\n",
       "  </tbody>\n",
       "</table>\n",
       "</div>"
      ],
      "text/plain": [
       "      sentiment                                            comment  category\n",
       "1208  nostalgia  I get flashbacks from this song when I was a c...         1\n",
       "1442  nostalgia  The song my wife and I danced to at our Weddin...         1\n",
       "240   nostalgia  Ya I have got some old pictures my mom took of...         1\n",
       "1404  nostalgia  I remember listening this track down at the sk...         1\n",
       "1003  nostalgia  These days I really wish It could be yesterday...         1"
      ]
     },
     "execution_count": 35,
     "metadata": {},
     "output_type": "execute_result"
    }
   ],
   "source": [
    "X_sample.head(5)"
   ]
  },
  {
   "cell_type": "code",
   "execution_count": 36,
   "metadata": {},
   "outputs": [
    {
     "data": {
      "text/plain": [
       "sentiment\n",
       "nostalgia        750\n",
       "not nostalgia    749\n",
       "Name: count, dtype: int64"
      ]
     },
     "execution_count": 36,
     "metadata": {},
     "output_type": "execute_result"
    }
   ],
   "source": [
    "X.sentiment.value_counts()"
   ]
  },
  {
   "cell_type": "code",
   "execution_count": 37,
   "metadata": {},
   "outputs": [
    {
     "data": {
      "text/plain": [
       "sentiment\n",
       "nostalgia        516\n",
       "not nostalgia    484\n",
       "Name: count, dtype: int64"
      ]
     },
     "execution_count": 37,
     "metadata": {},
     "output_type": "execute_result"
    }
   ],
   "source": [
    "X_sample.sentiment.value_counts()"
   ]
  },
  {
   "cell_type": "code",
   "execution_count": 38,
   "metadata": {},
   "outputs": [
    {
     "data": {
      "image/png": "[encoded data removed]",
      "text/plain": [
       "<Figure size 900x400 with 1 Axes>"
      ]
     },
     "metadata": {},
     "output_type": "display_data"
    }
   ],
   "source": [
    "import numpy as np\n",
    "category_comparison = pd.DataFrame(\n",
    "    {\n",
    "        \"X\": X.sentiment.value_counts(),\n",
    "        \"X_sample\": X_sample.sentiment.value_counts(),\n",
    "    }\n",
    ")\n",
    "\n",
    "plt.figure(figsize=(9, 4))\n",
    "\n",
    "bar_width = 0.15\n",
    "index = np.arange(len(category_comparison))\n",
    "\n",
    "plt.bar(index, category_comparison[\"X\"], bar_width, label=\"X\", color=\"blue\", alpha=0.6)\n",
    "plt.bar(\n",
    "    index + bar_width,\n",
    "    category_comparison[\"X_sample\"],\n",
    "    bar_width,\n",
    "    label=\"X_sample\",\n",
    "    color=\"orange\",\n",
    "    alpha=0.7,\n",
    ")\n",
    "\n",
    "plt.title(\"Sentiment Distribution\")\n",
    "\n",
    "plt.xticks(index + bar_width / 2, category_comparison.index, rotation=0)\n",
    "plt.ylim(0, max(category_comparison.max()) + 50)\n",
    "plt.legend()\n",
    "plt.grid(\"axis=y\")\n",
    "\n",
    "plt.show()"
   ]
  },
  {
   "cell_type": "code",
   "execution_count": 39,
   "metadata": {},
   "outputs": [
    {
     "data": {
      "text/html": [
       "<div>\n",
       "<style scoped>\n",
       "    .dataframe tbody tr th:only-of-type {\n",
       "        vertical-align: middle;\n",
       "    }\n",
       "\n",
       "    .dataframe tbody tr th {\n",
       "        vertical-align: top;\n",
       "    }\n",
       "\n",
       "    .dataframe thead th {\n",
       "        text-align: right;\n",
       "    }\n",
       "</style>\n",
       "<table border=\"1\" class=\"dataframe\">\n",
       "  <thead>\n",
       "    <tr style=\"text-align: right;\">\n",
       "      <th></th>\n",
       "      <th>sentiment</th>\n",
       "      <th>comment</th>\n",
       "      <th>category</th>\n",
       "      <th>unigrams</th>\n",
       "    </tr>\n",
       "  </thead>\n",
       "  <tbody>\n",
       "    <tr>\n",
       "      <th>0</th>\n",
       "      <td>not nostalgia</td>\n",
       "      <td>He was a singer with a golden voice that I lov...</td>\n",
       "      <td>0</td>\n",
       "      <td>[He, was, a, singer, with, a, golden, voice, t...</td>\n",
       "    </tr>\n",
       "    <tr>\n",
       "      <th>1</th>\n",
       "      <td>nostalgia</td>\n",
       "      <td>The mist beautiful voice ever I listened to hi...</td>\n",
       "      <td>1</td>\n",
       "      <td>[The, mist, beautiful, voice, ever, I, listene...</td>\n",
       "    </tr>\n",
       "    <tr>\n",
       "      <th>2</th>\n",
       "      <td>nostalgia</td>\n",
       "      <td>I have most of Mr. Reeves songs.  Always love ...</td>\n",
       "      <td>1</td>\n",
       "      <td>[I, have, most, of, Mr., Reeves, songs, ., Alw...</td>\n",
       "    </tr>\n",
       "    <tr>\n",
       "      <th>3</th>\n",
       "      <td>not nostalgia</td>\n",
       "      <td>30 day leave from 1st tour in Viet Nam to conv...</td>\n",
       "      <td>0</td>\n",
       "      <td>[30, day, leave, from, 1st, tour, in, Viet, Na...</td>\n",
       "    </tr>\n",
       "  </tbody>\n",
       "</table>\n",
       "</div>"
      ],
      "text/plain": [
       "       sentiment                                            comment  category  \\\n",
       "0  not nostalgia  He was a singer with a golden voice that I lov...         0   \n",
       "1      nostalgia  The mist beautiful voice ever I listened to hi...         1   \n",
       "2      nostalgia  I have most of Mr. Reeves songs.  Always love ...         1   \n",
       "3  not nostalgia  30 day leave from 1st tour in Viet Nam to conv...         0   \n",
       "\n",
       "                                            unigrams  \n",
       "0  [He, was, a, singer, with, a, golden, voice, t...  \n",
       "1  [The, mist, beautiful, voice, ever, I, listene...  \n",
       "2  [I, have, most, of, Mr., Reeves, songs, ., Alw...  \n",
       "3  [30, day, leave, from, 1st, tour, in, Viet, Na...  "
      ]
     },
     "execution_count": 39,
     "metadata": {},
     "output_type": "execute_result"
    }
   ],
   "source": [
    "X[\"unigrams\"] = X[\"comment\"].apply(lambda x: dmh.tokenize_text(x))\n",
    "X[0:4]"
   ]
  },
  {
   "cell_type": "code",
   "execution_count": 40,
   "metadata": {},
   "outputs": [
    {
     "data": {
      "text/plain": [
       "['He', 'was', 'a', 'singer', 'with', 'a', 'golden', 'voice', 'that', 'I']"
      ]
     },
     "execution_count": 40,
     "metadata": {},
     "output_type": "execute_result"
    }
   ],
   "source": [
    "list(X[:1][\"unigrams\"])[0][:10]"
   ]
  },
  {
   "cell_type": "code",
   "execution_count": 41,
   "metadata": {},
   "outputs": [
    {
     "data": {
      "text/plain": [
       "(1499, 3730)"
      ]
     },
     "execution_count": 41,
     "metadata": {},
     "output_type": "execute_result"
    }
   ],
   "source": [
    "from sklearn.feature_extraction.text import CountVectorizer\n",
    "\n",
    "count_vect = CountVectorizer()\n",
    "\n",
    "X_counts = count_vect.fit_transform(\n",
    "    X.comment\n",
    ")\n",
    "\n",
    "X_counts.shape"
   ]
  },
  {
   "cell_type": "code",
   "execution_count": 42,
   "metadata": {},
   "outputs": [
    {
     "data": {
      "text/plain": [
       "array(['00', '000', '045', '07', '10', '100', '10m', '11', '11th', '12',\n",
       "       '13', '14', '15', '150', '16', '16years', '17', '17th', '18', '19',\n",
       "       '1927', '1930', '1930s', '1950', '1950s', '1952', '1954', '1955',\n",
       "       '1956', '1957', '1958', '1960', '1960s', '1962', '1963', '1964',\n",
       "       '1965', '1966', '1967', '1968', '1969', '1970', '1970s', '1973',\n",
       "       '1974', '1975', '1976', '1977', '1979', '1980'], dtype=object)"
      ]
     },
     "execution_count": 42,
     "metadata": {},
     "output_type": "execute_result"
    }
   ],
   "source": [
    "count_vect.get_feature_names_out()[:50]"
   ]
  },
  {
   "cell_type": "code",
   "execution_count": 43,
   "metadata": {},
   "outputs": [
    {
     "data": {
      "text/plain": [
       "['he',\n",
       " 'was',\n",
       " 'singer',\n",
       " 'with',\n",
       " 'golden',\n",
       " 'voice',\n",
       " 'that',\n",
       " 'love',\n",
       " 'to',\n",
       " 'hear']"
      ]
     },
     "execution_count": 43,
     "metadata": {},
     "output_type": "execute_result"
    }
   ],
   "source": [
    "analyze = count_vect.build_analyzer()\n",
    "analyze(X['comment'][0])[:10]"
   ]
  },
  {
   "cell_type": "code",
   "execution_count": 44,
   "metadata": {},
   "outputs": [
    {
     "name": "stdout",
     "output_type": "stream",
     "text": [
      "  (np.int32(0), np.int32(1598))\t0.10512815802912398\n",
      "  (np.int32(0), np.int32(3570))\t0.1395574769171071\n",
      "  (np.int32(0), np.int32(2973))\t0.13337780025660986\n",
      "  (np.int32(0), np.int32(3650))\t0.09117642312434776\n",
      "  (np.int32(0), np.int32(1470))\t0.17742470356320433\n",
      "  (np.int32(0), np.int32(3534))\t0.10560382174971122\n",
      "  (np.int32(0), np.int32(3282))\t0.08099760357962565\n",
      "  (np.int32(0), np.int32(2028))\t0.08426437228313143\n",
      "  (np.int32(0), np.int32(3336))\t0.05656163791989449\n",
      "  (np.int32(0), np.int32(1606))\t0.11892115591975148\n",
      "  (np.int32(0), np.int32(233))\t0.19791015577918225\n",
      "  (np.int32(0), np.int32(3284))\t0.1516330924946833\n",
      "  (np.int32(0), np.int32(3328))\t0.18797687737677285\n",
      "  (np.int32(0), np.int32(1651))\t0.22761435073116082\n",
      "  (np.int32(0), np.int32(1512))\t0.09515621480982876\n",
      "  (np.int32(0), np.int32(1249))\t0.19852539212933534\n",
      "  (np.int32(0), np.int32(323))\t0.10633155023896874\n",
      "  (np.int32(0), np.int32(214))\t0.14662969149477417\n",
      "  (np.int32(0), np.int32(2341))\t0.061599247801622355\n",
      "  (np.int32(0), np.int32(15))\t0.23196919224604873\n",
      "  (np.int32(0), np.int32(1733))\t0.06689075657536095\n",
      "  (np.int32(0), np.int32(3304))\t0.12462022324106113\n",
      "  (np.int32(0), np.int32(907))\t0.11318589137806082\n",
      "  (np.int32(0), np.int32(258))\t0.11457641683536417\n",
      "  (np.int32(0), np.int32(3124))\t0.11082028545327519\n",
      "  (np.int32(0), np.int32(2328))\t0.2116889402153788\n",
      "  (np.int32(0), np.int32(245))\t0.18618228057875305\n",
      "  (np.int32(0), np.int32(3581))\t0.10784137331574907\n",
      "  (np.int32(0), np.int32(1591))\t0.09690622871170591\n",
      "  (np.int32(0), np.int32(2082))\t0.11380717536558041\n",
      "  (np.int32(0), np.int32(2974))\t0.15632401499707327\n",
      "  (np.int32(0), np.int32(573))\t0.09498662184332274\n",
      "  (np.int32(0), np.int32(593))\t0.10489308459264358\n",
      "  (np.int32(0), np.int32(3538))\t0.23196919224604873\n",
      "  (np.int32(0), np.int32(1347))\t0.17046172334567541\n",
      "  (np.int32(0), np.int32(1833))\t0.14572091180719218\n",
      "  (np.int32(0), np.int32(2671))\t0.1538873661958118\n",
      "  (np.int32(0), np.int32(3713))\t0.17095471160607623\n",
      "  (np.int32(0), np.int32(1272))\t0.14572091180719218\n",
      "  (np.int32(0), np.int32(2688))\t0.21086850367991766\n",
      "  (np.int32(0), np.int32(1125))\t0.20407559920901155\n",
      "  (np.int32(0), np.int32(2035))\t0.17742470356320433\n",
      "  (np.int32(0), np.int32(3278))\t0.11855215917452316\n",
      "  (np.int32(0), np.int32(2018))\t0.19852539212933534\n",
      "  (np.int32(0), np.int32(1964))\t0.12694515867382045\n"
     ]
    },
    {
     "name": "stderr",
     "output_type": "stream",
     "text": [
      "/home/rukaton/Work/DM2024-Lab1-Homework/.venv/lib/python3.9/site-packages/sklearn/feature_extraction/text.py:521: UserWarning: The parameter 'token_pattern' will not be used since 'tokenizer' is not None'\n",
      "  warnings.warn(\n"
     ]
    }
   ],
   "source": [
    "from sklearn.feature_extraction.text import TfidfVectorizer\n",
    "\n",
    "\n",
    "tfidf_vectorizer = TfidfVectorizer(tokenizer=analyze)  # analyze <CountVectorizer>\n",
    "\n",
    "X_tfidf = tfidf_vectorizer.fit_transform(X[\"comment\"])\n",
    "\n",
    "print(X_tfidf[0])"
   ]
  },
  {
   "cell_type": "code",
   "execution_count": 45,
   "metadata": {},
   "outputs": [
    {
     "data": {
      "image/png": "[encoded data removed]",
      "text/plain": [
       "<Figure size 1200x800 with 1 Axes>"
      ]
     },
     "metadata": {},
     "output_type": "display_data"
    }
   ],
   "source": [
    "from sklearn.decomposition import PCA\n",
    "\n",
    "pca = PCA(n_components=2)\n",
    "X_tfidf_2d = pca.fit_transform(X_tfidf.toarray())\n",
    "\n",
    "plt.figure(figsize=(12, 8))\n",
    "plt.scatter(X_tfidf_2d[:, 0], X_tfidf_2d[:, 1], alpha=0.4)\n",
    "\n",
    "plt.show()"
   ]
  },
  {
   "cell_type": "code",
   "execution_count": 46,
   "metadata": {},
   "outputs": [
    {
     "name": "stdout",
     "output_type": "stream",
     "text": [
      "  (np.int32(0), np.int32(1598))\t0.01653949647419642\n",
      "  (np.int32(0), np.int32(3570))\t0.021956157519461058\n",
      "  (np.int32(0), np.int32(2973))\t0.020983927602623246\n",
      "  (np.int32(0), np.int32(3650))\t0.01434451204193287\n",
      "  (np.int32(0), np.int32(1470))\t0.027913694237903464\n",
      "  (np.int32(0), np.int32(3534))\t0.016614331214736402\n",
      "  (np.int32(0), np.int32(3282))\t0.012743109019873132\n",
      "  (np.int32(0), np.int32(2028))\t0.013257059901031732\n",
      "  (np.int32(0), np.int32(3336))\t0.008898672139691676\n",
      "  (np.int32(0), np.int32(1606))\t0.018709507290113433\n",
      "  (np.int32(0), np.int32(233))\t0.03113660873626861\n",
      "  (np.int32(0), np.int32(3284))\t0.02385597774853558\n",
      "  (np.int32(0), np.int32(3328))\t0.02957383596259985\n",
      "  (np.int32(0), np.int32(1651))\t0.035809880263969\n",
      "  (np.int32(0), np.int32(1512))\t0.014970640681339012\n",
      "  (np.int32(0), np.int32(1249))\t0.031233402018248646\n",
      "  (np.int32(0), np.int32(323))\t0.016728822546154126\n",
      "  (np.int32(0), np.int32(214))\t0.023068807738631455\n",
      "  (np.int32(0), np.int32(2341))\t0.009691224129940881\n",
      "  (np.int32(0), np.int32(15))\t0.03649501436344803\n",
      "  (np.int32(0), np.int32(1733))\t0.010523721268168902\n",
      "  (np.int32(0), np.int32(3304))\t0.019606124387132252\n",
      "  (np.int32(0), np.int32(907))\t0.017807195393432073\n",
      "  (np.int32(0), np.int32(258))\t0.018025962575598225\n",
      "  (np.int32(0), np.int32(3124))\t0.017435021738097117\n",
      "  (np.int32(0), np.int32(2328))\t0.033304383392208564\n",
      "  (np.int32(0), np.int32(245))\t0.02929149745339445\n",
      "  (np.int32(0), np.int32(3581))\t0.016966358463488\n",
      "  (np.int32(0), np.int32(1591))\t0.015245965097770557\n",
      "  (np.int32(0), np.int32(2082))\t0.0179049401319845\n",
      "  (np.int32(0), np.int32(2974))\t0.024593986457558278\n",
      "  (np.int32(0), np.int32(573))\t0.014943959130704426\n",
      "  (np.int32(0), np.int32(593))\t0.01650251307843705\n",
      "  (np.int32(0), np.int32(3538))\t0.03649501436344803\n",
      "  (np.int32(0), np.int32(1347))\t0.026818229531617877\n",
      "  (np.int32(0), np.int32(1833))\t0.02292583216747744\n",
      "  (np.int32(0), np.int32(2671))\t0.024210635840436704\n",
      "  (np.int32(0), np.int32(3713))\t0.0268957898898281\n",
      "  (np.int32(0), np.int32(1272))\t0.02292583216747744\n",
      "  (np.int32(0), np.int32(2688))\t0.033175306583102845\n",
      "  (np.int32(0), np.int32(1125))\t0.03210659938179356\n",
      "  (np.int32(0), np.int32(2035))\t0.027913694237903464\n",
      "  (np.int32(0), np.int32(3278))\t0.018651454143543484\n",
      "  (np.int32(0), np.int32(2018))\t0.031233402018248646\n",
      "  (np.int32(0), np.int32(1964))\t0.019971899476449468\n"
     ]
    },
    {
     "name": "stderr",
     "output_type": "stream",
     "text": [
      "/home/rukaton/Work/DM2024-Lab1-Homework/.venv/lib/python3.9/site-packages/sklearn/feature_extraction/text.py:521: UserWarning: The parameter 'token_pattern' will not be used since 'tokenizer' is not None'\n",
      "  warnings.warn(\n"
     ]
    }
   ],
   "source": [
    "from sklearn.feature_extraction.text import TfidfVectorizer\n",
    "\n",
    "\n",
    "tfidf_vectorizer_2 = TfidfVectorizer(\n",
    "    tokenizer=analyze, norm=\"l1\"\n",
    ")  # analyze <CountVectorizer>\n",
    "\n",
    "X_tfidf_2 = tfidf_vectorizer_2.fit_transform(X[\"comment\"])\n",
    "\n",
    "print(X_tfidf_2[0])"
   ]
  },
  {
   "cell_type": "code",
   "execution_count": 47,
   "metadata": {},
   "outputs": [
    {
     "ename": "NameError",
     "evalue": "name 'sns' is not defined",
     "output_type": "error",
     "traceback": [
      "\u001b[0;31m---------------------------------------------------------------------------\u001b[0m",
      "\u001b[0;31mNameError\u001b[0m                                 Traceback (most recent call last)",
      "Cell \u001b[0;32mIn[47], line 8\u001b[0m\n\u001b[1;32m      6\u001b[0m df_todraw \u001b[38;5;241m=\u001b[39m pd\u001b[38;5;241m.\u001b[39mDataFrame(plot_z, columns\u001b[38;5;241m=\u001b[39mplot_x, index\u001b[38;5;241m=\u001b[39mplot_y)\n\u001b[1;32m      7\u001b[0m plt\u001b[38;5;241m.\u001b[39msubplots(figsize\u001b[38;5;241m=\u001b[39m(\u001b[38;5;241m9\u001b[39m, \u001b[38;5;241m7\u001b[39m))\n\u001b[0;32m----> 8\u001b[0m ax \u001b[38;5;241m=\u001b[39m \u001b[43msns\u001b[49m\u001b[38;5;241m.\u001b[39mheatmap(df_todraw, cmap\u001b[38;5;241m=\u001b[39m\u001b[38;5;124m\"\u001b[39m\u001b[38;5;124mPuRd\u001b[39m\u001b[38;5;124m\"\u001b[39m, vmin\u001b[38;5;241m=\u001b[39m\u001b[38;5;241m0\u001b[39m, vmax\u001b[38;5;241m=\u001b[39m\u001b[38;5;241m1\u001b[39m, annot\u001b[38;5;241m=\u001b[39m\u001b[38;5;28;01mTrue\u001b[39;00m)\n",
      "\u001b[0;31mNameError\u001b[0m: name 'sns' is not defined"
     ]
    },
    {
     "data": {
      "image/png": "[encoded data removed]",
      "text/plain": [
       "<Figure size 900x700 with 1 Axes>"
      ]
     },
     "metadata": {},
     "output_type": "display_data"
    }
   ],
   "source": [
    "# first twenty features only\n",
    "plot_x = [\"term_\" + str(i) for i in count_vect.get_feature_names_out()[0:20]]\n",
    "plot_y = [\"doc_\" + str(i) for i in list(X.index)[0:20]]\n",
    "plot_z = X_counts[0:20, 0:20].toarray()\n",
    "\n",
    "df_todraw = pd.DataFrame(plot_z, columns=plot_x, index=plot_y)\n",
    "plt.subplots(figsize=(9, 7))\n",
    "ax = sns.heatmap(df_todraw, cmap=\"PuRd\", vmin=0, vmax=1, annot=True)"
   ]
  },
  {
   "cell_type": "code",
   "execution_count": 139,
   "metadata": {},
   "outputs": [],
   "source": [
    "term_frequencies = []\n",
    "for j in range(0, X_counts.shape[1]):\n",
    "    term_frequencies.append(sum(X_counts[:, j].toarray()))"
   ]
  },
  {
   "cell_type": "code",
   "execution_count": 140,
   "metadata": {},
   "outputs": [
    {
     "data": {
      "text/plain": [
       "np.int64(1)"
      ]
     },
     "execution_count": 140,
     "metadata": {},
     "output_type": "execute_result"
    }
   ],
   "source": [
    "term_frequencies = np.asarray(X_counts.sum(axis=0))[0]\n",
    "term_frequencies[0]"
   ]
  },
  {
   "cell_type": "code",
   "execution_count": 143,
   "metadata": {},
   "outputs": [
    {
     "data": {
      "application/vnd.plotly.v1+json": {
       "config": {
        "plotlyServerURL": "https://plot.ly"
       },
       "data": [
        {
         "fillpattern": {
          "shape": ""
         },
         "hovertemplate": "Feature=%{x}<br>Frequency=%{y}<extra></extra>",
         "legendgroup": "",
         "line": {
          "color": "#636efa"
         },
         "marker": {
          "symbol": "circle"
         },
         "mode": "lines",
         "name": "",
         "orientation": "v",
         "showlegend": false,
         "stackgroup": "1",
         "type": "scatter",
         "x": [
          "the",
          "this",
          "to",
          "and",
          "my",
          "song",
          "of",
          "in",
          "it",
          "was",
          "me",
          "is",
          "you",
          "that",
          "so",
          "love",
          "when",
          "back",
          "for",
          "music",
          "memories",
          "on",
          "with",
          "time",
          "great",
          "but",
          "have",
          "years",
          "all",
          "he",
          "beautiful",
          "as",
          "like",
          "one",
          "songs",
          "old",
          "just",
          "her",
          "we",
          "she",
          "at",
          "from",
          "be",
          "good",
          "now",
          "voice",
          "not",
          "what",
          "can",
          "remember",
          "always",
          "his",
          "still",
          "they",
          "much",
          "brings",
          "will",
          "are",
          "never",
          "had",
          "days",
          "many",
          "very",
          "up",
          "am",
          "best",
          "listening",
          "him",
          "thank",
          "these",
          "first",
          "really",
          "miss",
          "who",
          "how",
          "listen",
          "out",
          "hear",
          "about",
          "childhood",
          "were",
          "no",
          "heard",
          "ever",
          "there",
          "those",
          "reminds",
          "would",
          "loved",
          "by",
          "only",
          "know",
          "sing",
          "more",
          "an",
          "has",
          "every",
          "if",
          "life",
          "dad"
         ],
         "xaxis": "x",
         "y": [
          1351,
          997,
          937,
          923,
          765,
          748,
          722,
          612,
          586,
          584,
          388,
          375,
          367,
          360,
          315,
          309,
          299,
          290,
          278,
          267,
          244,
          240,
          222,
          213,
          209,
          195,
          186,
          184,
          181,
          178,
          172,
          171,
          169,
          167,
          160,
          159,
          154,
          153,
          143,
          142,
          139,
          139,
          139,
          138,
          137,
          137,
          137,
          136,
          136,
          132,
          127,
          123,
          118,
          117,
          115,
          108,
          105,
          103,
          102,
          100,
          100,
          100,
          95,
          94,
          94,
          93,
          92,
          89,
          89,
          88,
          88,
          87,
          86,
          86,
          85,
          85,
          85,
          82,
          82,
          81,
          81,
          79,
          79,
          78,
          76,
          76,
          76,
          76,
          76,
          75,
          74,
          73,
          73,
          72,
          72,
          71,
          70,
          68,
          67,
          67
         ],
         "yaxis": "y"
        }
       ],
       "layout": {
        "legend": {
         "tracegroupgap": 0
        },
        "margin": {
         "t": 60
        },
        "template": {
         "data": {
          "bar": [
           {
            "error_x": {
             "color": "#2a3f5f"
            },
            "error_y": {
             "color": "#2a3f5f"
            },
            "marker": {
             "line": {
              "color": "#E5ECF6",
              "width": 0.5
             },
             "pattern": {
              "fillmode": "overlay",
              "size": 10,
              "solidity": 0.2
             }
            },
            "type": "bar"
           }
          ],
          "barpolar": [
           {
            "marker": {
             "line": {
              "color": "#E5ECF6",
              "width": 0.5
             },
             "pattern": {
              "fillmode": "overlay",
              "size": 10,
              "solidity": 0.2
             }
            },
            "type": "barpolar"
           }
          ],
          "carpet": [
           {
            "aaxis": {
             "endlinecolor": "#2a3f5f",
             "gridcolor": "white",
             "linecolor": "white",
             "minorgridcolor": "white",
             "startlinecolor": "#2a3f5f"
            },
            "baxis": {
             "endlinecolor": "#2a3f5f",
             "gridcolor": "white",
             "linecolor": "white",
             "minorgridcolor": "white",
             "startlinecolor": "#2a3f5f"
            },
            "type": "carpet"
           }
          ],
          "choropleth": [
           {
            "colorbar": {
             "outlinewidth": 0,
             "ticks": ""
            },
            "type": "choropleth"
           }
          ],
          "contour": [
           {
            "colorbar": {
             "outlinewidth": 0,
             "ticks": ""
            },
            "colorscale": [
             [
              0,
              "#0d0887"
             ],
             [
              0.1111111111111111,
              "#46039f"
             ],
             [
              0.2222222222222222,
              "#7201a8"
             ],
             [
              0.3333333333333333,
              "#9c179e"
             ],
             [
              0.4444444444444444,
              "#bd3786"
             ],
             [
              0.5555555555555556,
              "#d8576b"
             ],
             [
              0.6666666666666666,
              "#ed7953"
             ],
             [
              0.7777777777777778,
              "#fb9f3a"
             ],
             [
              0.8888888888888888,
              "#fdca26"
             ],
             [
              1,
              "#f0f921"
             ]
            ],
            "type": "contour"
           }
          ],
          "contourcarpet": [
           {
            "colorbar": {
             "outlinewidth": 0,
             "ticks": ""
            },
            "type": "contourcarpet"
           }
          ],
          "heatmap": [
           {
            "colorbar": {
             "outlinewidth": 0,
             "ticks": ""
            },
            "colorscale": [
             [
              0,
              "#0d0887"
             ],
             [
              0.1111111111111111,
              "#46039f"
             ],
             [
              0.2222222222222222,
              "#7201a8"
             ],
             [
              0.3333333333333333,
              "#9c179e"
             ],
             [
              0.4444444444444444,
              "#bd3786"
             ],
             [
              0.5555555555555556,
              "#d8576b"
             ],
             [
              0.6666666666666666,
              "#ed7953"
             ],
             [
              0.7777777777777778,
              "#fb9f3a"
             ],
             [
              0.8888888888888888,
              "#fdca26"
             ],
             [
              1,
              "#f0f921"
             ]
            ],
            "type": "heatmap"
           }
          ],
          "heatmapgl": [
           {
            "colorbar": {
             "outlinewidth": 0,
             "ticks": ""
            },
            "colorscale": [
             [
              0,
              "#0d0887"
             ],
             [
              0.1111111111111111,
              "#46039f"
             ],
             [
              0.2222222222222222,
              "#7201a8"
             ],
             [
              0.3333333333333333,
              "#9c179e"
             ],
             [
              0.4444444444444444,
              "#bd3786"
             ],
             [
              0.5555555555555556,
              "#d8576b"
             ],
             [
              0.6666666666666666,
              "#ed7953"
             ],
             [
              0.7777777777777778,
              "#fb9f3a"
             ],
             [
              0.8888888888888888,
              "#fdca26"
             ],
             [
              1,
              "#f0f921"
             ]
            ],
            "type": "heatmapgl"
           }
          ],
          "histogram": [
           {
            "marker": {
             "pattern": {
              "fillmode": "overlay",
              "size": 10,
              "solidity": 0.2
             }
            },
            "type": "histogram"
           }
          ],
          "histogram2d": [
           {
            "colorbar": {
             "outlinewidth": 0,
             "ticks": ""
            },
            "colorscale": [
             [
              0,
              "#0d0887"
             ],
             [
              0.1111111111111111,
              "#46039f"
             ],
             [
              0.2222222222222222,
              "#7201a8"
             ],
             [
              0.3333333333333333,
              "#9c179e"
             ],
             [
              0.4444444444444444,
              "#bd3786"
             ],
             [
              0.5555555555555556,
              "#d8576b"
             ],
             [
              0.6666666666666666,
              "#ed7953"
             ],
             [
              0.7777777777777778,
              "#fb9f3a"
             ],
             [
              0.8888888888888888,
              "#fdca26"
             ],
             [
              1,
              "#f0f921"
             ]
            ],
            "type": "histogram2d"
           }
          ],
          "histogram2dcontour": [
           {
            "colorbar": {
             "outlinewidth": 0,
             "ticks": ""
            },
            "colorscale": [
             [
              0,
              "#0d0887"
             ],
             [
              0.1111111111111111,
              "#46039f"
             ],
             [
              0.2222222222222222,
              "#7201a8"
             ],
             [
              0.3333333333333333,
              "#9c179e"
             ],
             [
              0.4444444444444444,
              "#bd3786"
             ],
             [
              0.5555555555555556,
              "#d8576b"
             ],
             [
              0.6666666666666666,
              "#ed7953"
             ],
             [
              0.7777777777777778,
              "#fb9f3a"
             ],
             [
              0.8888888888888888,
              "#fdca26"
             ],
             [
              1,
              "#f0f921"
             ]
            ],
            "type": "histogram2dcontour"
           }
          ],
          "mesh3d": [
           {
            "colorbar": {
             "outlinewidth": 0,
             "ticks": ""
            },
            "type": "mesh3d"
           }
          ],
          "parcoords": [
           {
            "line": {
             "colorbar": {
              "outlinewidth": 0,
              "ticks": ""
             }
            },
            "type": "parcoords"
           }
          ],
          "pie": [
           {
            "automargin": true,
            "type": "pie"
           }
          ],
          "scatter": [
           {
            "fillpattern": {
             "fillmode": "overlay",
             "size": 10,
             "solidity": 0.2
            },
            "type": "scatter"
           }
          ],
          "scatter3d": [
           {
            "line": {
             "colorbar": {
              "outlinewidth": 0,
              "ticks": ""
             }
            },
            "marker": {
             "colorbar": {
              "outlinewidth": 0,
              "ticks": ""
             }
            },
            "type": "scatter3d"
           }
          ],
          "scattercarpet": [
           {
            "marker": {
             "colorbar": {
              "outlinewidth": 0,
              "ticks": ""
             }
            },
            "type": "scattercarpet"
           }
          ],
          "scattergeo": [
           {
            "marker": {
             "colorbar": {
              "outlinewidth": 0,
              "ticks": ""
             }
            },
            "type": "scattergeo"
           }
          ],
          "scattergl": [
           {
            "marker": {
             "colorbar": {
              "outlinewidth": 0,
              "ticks": ""
             }
            },
            "type": "scattergl"
           }
          ],
          "scattermapbox": [
           {
            "marker": {
             "colorbar": {
              "outlinewidth": 0,
              "ticks": ""
             }
            },
            "type": "scattermapbox"
           }
          ],
          "scatterpolar": [
           {
            "marker": {
             "colorbar": {
              "outlinewidth": 0,
              "ticks": ""
             }
            },
            "type": "scatterpolar"
           }
          ],
          "scatterpolargl": [
           {
            "marker": {
             "colorbar": {
              "outlinewidth": 0,
              "ticks": ""
             }
            },
            "type": "scatterpolargl"
           }
          ],
          "scatterternary": [
           {
            "marker": {
             "colorbar": {
              "outlinewidth": 0,
              "ticks": ""
             }
            },
            "type": "scatterternary"
           }
          ],
          "surface": [
           {
            "colorbar": {
             "outlinewidth": 0,
             "ticks": ""
            },
            "colorscale": [
             [
              0,
              "#0d0887"
             ],
             [
              0.1111111111111111,
              "#46039f"
             ],
             [
              0.2222222222222222,
              "#7201a8"
             ],
             [
              0.3333333333333333,
              "#9c179e"
             ],
             [
              0.4444444444444444,
              "#bd3786"
             ],
             [
              0.5555555555555556,
              "#d8576b"
             ],
             [
              0.6666666666666666,
              "#ed7953"
             ],
             [
              0.7777777777777778,
              "#fb9f3a"
             ],
             [
              0.8888888888888888,
              "#fdca26"
             ],
             [
              1,
              "#f0f921"
             ]
            ],
            "type": "surface"
           }
          ],
          "table": [
           {
            "cells": {
             "fill": {
              "color": "#EBF0F8"
             },
             "line": {
              "color": "white"
             }
            },
            "header": {
             "fill": {
              "color": "#C8D4E3"
             },
             "line": {
              "color": "white"
             }
            },
            "type": "table"
           }
          ]
         },
         "layout": {
          "annotationdefaults": {
           "arrowcolor": "#2a3f5f",
           "arrowhead": 0,
           "arrowwidth": 1
          },
          "autotypenumbers": "strict",
          "coloraxis": {
           "colorbar": {
            "outlinewidth": 0,
            "ticks": ""
           }
          },
          "colorscale": {
           "diverging": [
            [
             0,
             "#8e0152"
            ],
            [
             0.1,
             "#c51b7d"
            ],
            [
             0.2,
             "#de77ae"
            ],
            [
             0.3,
             "#f1b6da"
            ],
            [
             0.4,
             "#fde0ef"
            ],
            [
             0.5,
             "#f7f7f7"
            ],
            [
             0.6,
             "#e6f5d0"
            ],
            [
             0.7,
             "#b8e186"
            ],
            [
             0.8,
             "#7fbc41"
            ],
            [
             0.9,
             "#4d9221"
            ],
            [
             1,
             "#276419"
            ]
           ],
           "sequential": [
            [
             0,
             "#0d0887"
            ],
            [
             0.1111111111111111,
             "#46039f"
            ],
            [
             0.2222222222222222,
             "#7201a8"
            ],
            [
             0.3333333333333333,
             "#9c179e"
            ],
            [
             0.4444444444444444,
             "#bd3786"
            ],
            [
             0.5555555555555556,
             "#d8576b"
            ],
            [
             0.6666666666666666,
             "#ed7953"
            ],
            [
             0.7777777777777778,
             "#fb9f3a"
            ],
            [
             0.8888888888888888,
             "#fdca26"
            ],
            [
             1,
             "#f0f921"
            ]
           ],
           "sequentialminus": [
            [
             0,
             "#0d0887"
            ],
            [
             0.1111111111111111,
             "#46039f"
            ],
            [
             0.2222222222222222,
             "#7201a8"
            ],
            [
             0.3333333333333333,
             "#9c179e"
            ],
            [
             0.4444444444444444,
             "#bd3786"
            ],
            [
             0.5555555555555556,
             "#d8576b"
            ],
            [
             0.6666666666666666,
             "#ed7953"
            ],
            [
             0.7777777777777778,
             "#fb9f3a"
            ],
            [
             0.8888888888888888,
             "#fdca26"
            ],
            [
             1,
             "#f0f921"
            ]
           ]
          },
          "colorway": [
           "#636efa",
           "#EF553B",
           "#00cc96",
           "#ab63fa",
           "#FFA15A",
           "#19d3f3",
           "#FF6692",
           "#B6E880",
           "#FF97FF",
           "#FECB52"
          ],
          "font": {
           "color": "#2a3f5f"
          },
          "geo": {
           "bgcolor": "white",
           "lakecolor": "white",
           "landcolor": "#E5ECF6",
           "showlakes": true,
           "showland": true,
           "subunitcolor": "white"
          },
          "hoverlabel": {
           "align": "left"
          },
          "hovermode": "closest",
          "mapbox": {
           "style": "light"
          },
          "paper_bgcolor": "white",
          "plot_bgcolor": "#E5ECF6",
          "polar": {
           "angularaxis": {
            "gridcolor": "white",
            "linecolor": "white",
            "ticks": ""
           },
           "bgcolor": "#E5ECF6",
           "radialaxis": {
            "gridcolor": "white",
            "linecolor": "white",
            "ticks": ""
           }
          },
          "scene": {
           "xaxis": {
            "backgroundcolor": "#E5ECF6",
            "gridcolor": "white",
            "gridwidth": 2,
            "linecolor": "white",
            "showbackground": true,
            "ticks": "",
            "zerolinecolor": "white"
           },
           "yaxis": {
            "backgroundcolor": "#E5ECF6",
            "gridcolor": "white",
            "gridwidth": 2,
            "linecolor": "white",
            "showbackground": true,
            "ticks": "",
            "zerolinecolor": "white"
           },
           "zaxis": {
            "backgroundcolor": "#E5ECF6",
            "gridcolor": "white",
            "gridwidth": 2,
            "linecolor": "white",
            "showbackground": true,
            "ticks": "",
            "zerolinecolor": "white"
           }
          },
          "shapedefaults": {
           "line": {
            "color": "#2a3f5f"
           }
          },
          "ternary": {
           "aaxis": {
            "gridcolor": "white",
            "linecolor": "white",
            "ticks": ""
           },
           "baxis": {
            "gridcolor": "white",
            "linecolor": "white",
            "ticks": ""
           },
           "bgcolor": "#E5ECF6",
           "caxis": {
            "gridcolor": "white",
            "linecolor": "white",
            "ticks": ""
           }
          },
          "title": {
           "x": 0.05
          },
          "xaxis": {
           "automargin": true,
           "gridcolor": "white",
           "linecolor": "white",
           "ticks": "",
           "title": {
            "standoff": 15
           },
           "zerolinecolor": "white",
           "zerolinewidth": 2
          },
          "yaxis": {
           "automargin": true,
           "gridcolor": "white",
           "linecolor": "white",
           "ticks": "",
           "title": {
            "standoff": 15
           },
           "zerolinecolor": "white",
           "zerolinewidth": 2
          }
         }
        },
        "title": {
         "text": "Top 100 Term Frequencies"
        },
        "xaxis": {
         "anchor": "y",
         "domain": [
          0,
          1
         ],
         "title": {
          "text": "Feature"
         }
        },
        "yaxis": {
         "anchor": "x",
         "domain": [
          0,
          1
         ],
         "title": {
          "text": "Frequency"
         }
        }
       }
      }
     },
     "metadata": {},
     "output_type": "display_data"
    }
   ],
   "source": [
    "df = pd.DataFrame(\n",
    "    {\n",
    "        \"Feature\": count_vect.get_feature_names_out(),\n",
    "        \"Frequency\": term_frequencies,\n",
    "    }\n",
    ")\n",
    "\n",
    "df = df.sort_values(by=\"Frequency\", ascending=False).head(100)\n",
    "\n",
    "fig = px.area(df, x=\"Feature\", y=\"Frequency\")\n",
    "fig.update_layout(\n",
    "    title=f\"Top 100 Term Frequencies\"\n",
    ")\n",
    "\n",
    "fig.show()"
   ]
  },
  {
   "cell_type": "code",
   "execution_count": 144,
   "metadata": {},
   "outputs": [],
   "source": [
    "import pandas as pd\n",
    "from sklearn.feature_extraction.text import CountVectorizer\n",
    "\n",
    "# Create separate DataFrames for each category\n",
    "categories = X[\"sentiment\"].unique()  # Get unique category labels\n",
    "category_dfs = {}  # Dictionary to store DataFrames for each category\n",
    "\n",
    "for category in categories:\n",
    "    # Filter the original DataFrame by category\n",
    "    category_dfs[category] = X[X[\"sentiment\"] == category].copy()\n",
    "\n",
    "\n",
    "# Function to create term-document frequency DataFrame for each category\n",
    "def create_term_document_df(df):\n",
    "    count_vect = CountVectorizer()  # Initialize the CountVectorizer\n",
    "    X_counts = count_vect.fit_transform(\n",
    "        df[\"comment\"]\n",
    "    )  # Transform the text data into word counts\n",
    "\n",
    "    # Get the unique words (vocabulary) from the vectorizer\n",
    "    words = count_vect.get_feature_names_out()\n",
    "\n",
    "    # Create a DataFrame where rows are documents and columns are words\n",
    "    term_document_df = pd.DataFrame(X_counts.toarray(), columns=words)\n",
    "\n",
    "    return term_document_df\n",
    "\n",
    "\n",
    "# Create term-document frequency DataFrames for each category\n",
    "term_document_dfs = {}  # Dictionary to store term-document DataFrames for each category\n",
    "\n",
    "for category in categories:\n",
    "    term_document_dfs[category] = create_term_document_df(category_dfs[category])"
   ]
  },
  {
   "cell_type": "code",
   "execution_count": 153,
   "metadata": {},
   "outputs": [
    {
     "name": "stdout",
     "output_type": "stream",
     "text": [
      "Filtered Term-Document Frequency DataFrame for Category not nostalgia:\n"
     ]
    },
    {
     "data": {
      "text/html": [
       "<div>\n",
       "<style scoped>\n",
       "    .dataframe tbody tr th:only-of-type {\n",
       "        vertical-align: middle;\n",
       "    }\n",
       "\n",
       "    .dataframe tbody tr th {\n",
       "        vertical-align: top;\n",
       "    }\n",
       "\n",
       "    .dataframe thead th {\n",
       "        text-align: right;\n",
       "    }\n",
       "</style>\n",
       "<table border=\"1\" class=\"dataframe\">\n",
       "  <thead>\n",
       "    <tr style=\"text-align: right;\">\n",
       "      <th></th>\n",
       "      <th>00</th>\n",
       "      <th>000</th>\n",
       "      <th>045</th>\n",
       "      <th>10</th>\n",
       "      <th>100</th>\n",
       "      <th>10m</th>\n",
       "      <th>11</th>\n",
       "      <th>14</th>\n",
       "      <th>15</th>\n",
       "      <th>150</th>\n",
       "      <th>...</th>\n",
       "      <th>yesterday</th>\n",
       "      <th>yet</th>\n",
       "      <th>younger</th>\n",
       "      <th>youngest</th>\n",
       "      <th>youngsters</th>\n",
       "      <th>yourself</th>\n",
       "      <th>youth</th>\n",
       "      <th>yrs</th>\n",
       "      <th>yuo</th>\n",
       "      <th>zulus</th>\n",
       "    </tr>\n",
       "  </thead>\n",
       "  <tbody>\n",
       "    <tr>\n",
       "      <th>0</th>\n",
       "      <td>0</td>\n",
       "      <td>0</td>\n",
       "      <td>0</td>\n",
       "      <td>0</td>\n",
       "      <td>0</td>\n",
       "      <td>0</td>\n",
       "      <td>0</td>\n",
       "      <td>0</td>\n",
       "      <td>0</td>\n",
       "      <td>0</td>\n",
       "      <td>...</td>\n",
       "      <td>0</td>\n",
       "      <td>0</td>\n",
       "      <td>0</td>\n",
       "      <td>0</td>\n",
       "      <td>0</td>\n",
       "      <td>0</td>\n",
       "      <td>0</td>\n",
       "      <td>0</td>\n",
       "      <td>0</td>\n",
       "      <td>0</td>\n",
       "    </tr>\n",
       "    <tr>\n",
       "      <th>1</th>\n",
       "      <td>0</td>\n",
       "      <td>0</td>\n",
       "      <td>0</td>\n",
       "      <td>0</td>\n",
       "      <td>0</td>\n",
       "      <td>0</td>\n",
       "      <td>0</td>\n",
       "      <td>0</td>\n",
       "      <td>0</td>\n",
       "      <td>0</td>\n",
       "      <td>...</td>\n",
       "      <td>0</td>\n",
       "      <td>0</td>\n",
       "      <td>0</td>\n",
       "      <td>0</td>\n",
       "      <td>0</td>\n",
       "      <td>0</td>\n",
       "      <td>0</td>\n",
       "      <td>0</td>\n",
       "      <td>0</td>\n",
       "      <td>0</td>\n",
       "    </tr>\n",
       "    <tr>\n",
       "      <th>2</th>\n",
       "      <td>0</td>\n",
       "      <td>0</td>\n",
       "      <td>0</td>\n",
       "      <td>0</td>\n",
       "      <td>0</td>\n",
       "      <td>0</td>\n",
       "      <td>0</td>\n",
       "      <td>0</td>\n",
       "      <td>0</td>\n",
       "      <td>0</td>\n",
       "      <td>...</td>\n",
       "      <td>0</td>\n",
       "      <td>0</td>\n",
       "      <td>0</td>\n",
       "      <td>0</td>\n",
       "      <td>0</td>\n",
       "      <td>0</td>\n",
       "      <td>0</td>\n",
       "      <td>0</td>\n",
       "      <td>0</td>\n",
       "      <td>0</td>\n",
       "    </tr>\n",
       "    <tr>\n",
       "      <th>3</th>\n",
       "      <td>0</td>\n",
       "      <td>0</td>\n",
       "      <td>0</td>\n",
       "      <td>0</td>\n",
       "      <td>0</td>\n",
       "      <td>0</td>\n",
       "      <td>0</td>\n",
       "      <td>0</td>\n",
       "      <td>0</td>\n",
       "      <td>0</td>\n",
       "      <td>...</td>\n",
       "      <td>0</td>\n",
       "      <td>0</td>\n",
       "      <td>0</td>\n",
       "      <td>0</td>\n",
       "      <td>0</td>\n",
       "      <td>0</td>\n",
       "      <td>0</td>\n",
       "      <td>0</td>\n",
       "      <td>0</td>\n",
       "      <td>0</td>\n",
       "    </tr>\n",
       "    <tr>\n",
       "      <th>4</th>\n",
       "      <td>0</td>\n",
       "      <td>0</td>\n",
       "      <td>0</td>\n",
       "      <td>0</td>\n",
       "      <td>0</td>\n",
       "      <td>0</td>\n",
       "      <td>0</td>\n",
       "      <td>0</td>\n",
       "      <td>0</td>\n",
       "      <td>0</td>\n",
       "      <td>...</td>\n",
       "      <td>0</td>\n",
       "      <td>0</td>\n",
       "      <td>0</td>\n",
       "      <td>0</td>\n",
       "      <td>0</td>\n",
       "      <td>0</td>\n",
       "      <td>0</td>\n",
       "      <td>0</td>\n",
       "      <td>0</td>\n",
       "      <td>0</td>\n",
       "    </tr>\n",
       "    <tr>\n",
       "      <th>...</th>\n",
       "      <td>...</td>\n",
       "      <td>...</td>\n",
       "      <td>...</td>\n",
       "      <td>...</td>\n",
       "      <td>...</td>\n",
       "      <td>...</td>\n",
       "      <td>...</td>\n",
       "      <td>...</td>\n",
       "      <td>...</td>\n",
       "      <td>...</td>\n",
       "      <td>...</td>\n",
       "      <td>...</td>\n",
       "      <td>...</td>\n",
       "      <td>...</td>\n",
       "      <td>...</td>\n",
       "      <td>...</td>\n",
       "      <td>...</td>\n",
       "      <td>...</td>\n",
       "      <td>...</td>\n",
       "      <td>...</td>\n",
       "      <td>...</td>\n",
       "    </tr>\n",
       "    <tr>\n",
       "      <th>744</th>\n",
       "      <td>0</td>\n",
       "      <td>0</td>\n",
       "      <td>0</td>\n",
       "      <td>0</td>\n",
       "      <td>0</td>\n",
       "      <td>0</td>\n",
       "      <td>0</td>\n",
       "      <td>0</td>\n",
       "      <td>0</td>\n",
       "      <td>0</td>\n",
       "      <td>...</td>\n",
       "      <td>0</td>\n",
       "      <td>0</td>\n",
       "      <td>0</td>\n",
       "      <td>0</td>\n",
       "      <td>0</td>\n",
       "      <td>0</td>\n",
       "      <td>0</td>\n",
       "      <td>0</td>\n",
       "      <td>0</td>\n",
       "      <td>0</td>\n",
       "    </tr>\n",
       "    <tr>\n",
       "      <th>745</th>\n",
       "      <td>0</td>\n",
       "      <td>0</td>\n",
       "      <td>0</td>\n",
       "      <td>0</td>\n",
       "      <td>0</td>\n",
       "      <td>0</td>\n",
       "      <td>0</td>\n",
       "      <td>0</td>\n",
       "      <td>0</td>\n",
       "      <td>0</td>\n",
       "      <td>...</td>\n",
       "      <td>0</td>\n",
       "      <td>0</td>\n",
       "      <td>0</td>\n",
       "      <td>0</td>\n",
       "      <td>0</td>\n",
       "      <td>0</td>\n",
       "      <td>0</td>\n",
       "      <td>0</td>\n",
       "      <td>0</td>\n",
       "      <td>0</td>\n",
       "    </tr>\n",
       "    <tr>\n",
       "      <th>746</th>\n",
       "      <td>0</td>\n",
       "      <td>0</td>\n",
       "      <td>0</td>\n",
       "      <td>0</td>\n",
       "      <td>0</td>\n",
       "      <td>0</td>\n",
       "      <td>0</td>\n",
       "      <td>0</td>\n",
       "      <td>0</td>\n",
       "      <td>0</td>\n",
       "      <td>...</td>\n",
       "      <td>0</td>\n",
       "      <td>0</td>\n",
       "      <td>0</td>\n",
       "      <td>0</td>\n",
       "      <td>0</td>\n",
       "      <td>0</td>\n",
       "      <td>0</td>\n",
       "      <td>0</td>\n",
       "      <td>0</td>\n",
       "      <td>0</td>\n",
       "    </tr>\n",
       "    <tr>\n",
       "      <th>747</th>\n",
       "      <td>0</td>\n",
       "      <td>0</td>\n",
       "      <td>0</td>\n",
       "      <td>0</td>\n",
       "      <td>0</td>\n",
       "      <td>0</td>\n",
       "      <td>0</td>\n",
       "      <td>0</td>\n",
       "      <td>0</td>\n",
       "      <td>0</td>\n",
       "      <td>...</td>\n",
       "      <td>0</td>\n",
       "      <td>0</td>\n",
       "      <td>0</td>\n",
       "      <td>0</td>\n",
       "      <td>0</td>\n",
       "      <td>0</td>\n",
       "      <td>0</td>\n",
       "      <td>0</td>\n",
       "      <td>0</td>\n",
       "      <td>0</td>\n",
       "    </tr>\n",
       "    <tr>\n",
       "      <th>748</th>\n",
       "      <td>0</td>\n",
       "      <td>0</td>\n",
       "      <td>0</td>\n",
       "      <td>0</td>\n",
       "      <td>0</td>\n",
       "      <td>0</td>\n",
       "      <td>0</td>\n",
       "      <td>0</td>\n",
       "      <td>0</td>\n",
       "      <td>0</td>\n",
       "      <td>...</td>\n",
       "      <td>0</td>\n",
       "      <td>0</td>\n",
       "      <td>0</td>\n",
       "      <td>0</td>\n",
       "      <td>0</td>\n",
       "      <td>0</td>\n",
       "      <td>0</td>\n",
       "      <td>0</td>\n",
       "      <td>0</td>\n",
       "      <td>0</td>\n",
       "    </tr>\n",
       "  </tbody>\n",
       "</table>\n",
       "<p>749 rows × 2300 columns</p>\n",
       "</div>"
      ],
      "text/plain": [
       "     00  000  045  10  100  10m  11  14  15  150  ...  yesterday  yet  \\\n",
       "0     0    0    0   0    0    0   0   0   0    0  ...          0    0   \n",
       "1     0    0    0   0    0    0   0   0   0    0  ...          0    0   \n",
       "2     0    0    0   0    0    0   0   0   0    0  ...          0    0   \n",
       "3     0    0    0   0    0    0   0   0   0    0  ...          0    0   \n",
       "4     0    0    0   0    0    0   0   0   0    0  ...          0    0   \n",
       "..   ..  ...  ...  ..  ...  ...  ..  ..  ..  ...  ...        ...  ...   \n",
       "744   0    0    0   0    0    0   0   0   0    0  ...          0    0   \n",
       "745   0    0    0   0    0    0   0   0   0    0  ...          0    0   \n",
       "746   0    0    0   0    0    0   0   0   0    0  ...          0    0   \n",
       "747   0    0    0   0    0    0   0   0   0    0  ...          0    0   \n",
       "748   0    0    0   0    0    0   0   0   0    0  ...          0    0   \n",
       "\n",
       "     younger  youngest  youngsters  yourself  youth  yrs  yuo  zulus  \n",
       "0          0         0           0         0      0    0    0      0  \n",
       "1          0         0           0         0      0    0    0      0  \n",
       "2          0         0           0         0      0    0    0      0  \n",
       "3          0         0           0         0      0    0    0      0  \n",
       "4          0         0           0         0      0    0    0      0  \n",
       "..       ...       ...         ...       ...    ...  ...  ...    ...  \n",
       "744        0         0           0         0      0    0    0      0  \n",
       "745        0         0           0         0      0    0    0      0  \n",
       "746        0         0           0         0      0    0    0      0  \n",
       "747        0         0           0         0      0    0    0      0  \n",
       "748        0         0           0         0      0    0    0      0  \n",
       "\n",
       "[749 rows x 2300 columns]"
      ]
     },
     "execution_count": 153,
     "metadata": {},
     "output_type": "execute_result"
    }
   ],
   "source": [
    "category_number = 0\n",
    "print(\n",
    "    f\"Filtered Term-Document Frequency DataFrame for Category {categories[category_number]}:\"\n",
    ")\n",
    "term_document_dfs[categories[category_number]]"
   ]
  },
  {
   "cell_type": "code",
   "execution_count": 150,
   "metadata": {},
   "outputs": [
    {
     "name": "stdout",
     "output_type": "stream",
     "text": [
      "Category: nostalgia\n",
      "Number of terms in top 5%: 114\n",
      "Filtered terms: ['neighborhood', 'neighbor', 'needed', 'nearly', 'nearer', 'nc', '16years', '150', '1954', '1930s', 'featured', 'imprinted', 'impossible', 'impersonate', 'insane', 'fathers', 'head', 'he', '1981', 'nicer', '15', '07', '1977', '1976', '1975', 'natural', 'naples', 'nana', 'nan', 'names', 'never', 'na', '21st', '20s', '2040', '2019', '2018', '2017', '2015', '2010', '2009', '2002', '2000s', 'musician', 'murray', 'munster', 'mummy', 'naver', 'happened', 'happen', 'hank', 'hanged', 'handball', '3pm', 'ms', 'mph', 'movie', 'move', 'myanmar', '30s', '29th', '29', '1980s', '1979', '21yr', '45s', '45rpm', '42', '40th', '40s', '400', 'hdqrs', 'nelson', 'had', 'habit', 'gut', 'gunner', 'gun', 'guessing', 'happening', '8th', '5th', '59', '58', '57', '53', '50s', '50', '46', '70s', 'mostly', 'morning', '27', '25', '22nd', '22', '61', '60', 'haired', 'hahaha', 'hd', 'hawaii', 'having', 'haven', 'hauntingly', 'haunting', 'hats', 'hating', 'hates', 'has', 'heartfelt', '90s', 'moments', 'moment']\n",
      "\n",
      "-----\n",
      "\n",
      "Category: nostalgia\n",
      "Number of terms in bottom 1%: 22\n",
      "Filtered terms: ['neighborhood', 'neighbor', 'needed', 'nearly', 'nearer', 'nc', '16years', '150', '1954', '1930s', 'featured', 'imprinted', 'impossible', 'impersonate', 'insane', 'fathers', 'head', 'he', '1981', 'nicer', '15', '07']\n"
     ]
    }
   ],
   "source": [
    "category_number = 1\n",
    "\n",
    "word_counts = term_document_dfs[categories[category_number]].sum(axis=0).to_numpy()\n",
    "sorted_indices = np.argsort(word_counts)  # Get indices of sorted frequencies\n",
    "sorted_counts = np.sort(word_counts)[::-1]  # Sort frequencies in descending order\n",
    "\n",
    "# Calculate the index corresponding to the top 5% most frequent terms\n",
    "total_terms = len(sorted_counts)\n",
    "top_5_percent_index = int(0.05 * total_terms)\n",
    "top_5_percent_indices = sorted_indices[:top_5_percent_index]\n",
    "filtered_words = [count_vect.get_feature_names_out()[i] for i in top_5_percent_indices]\n",
    "\n",
    "print(f\"Category: {categories[category_number]}\")\n",
    "print(f\"Number of terms in top 5%: {top_5_percent_index}\")\n",
    "print(f\"Filtered terms: {filtered_words}\")\n",
    "print('\\n'+'-'*5+'\\n')\n",
    "\n",
    "# Get the indices of the bottom 1% least frequent terms\n",
    "bottom_1_percent_index = int(0.01 * total_terms)\n",
    "bottom_1_percent_indices = sorted_indices[:bottom_1_percent_index]\n",
    "\n",
    "filtered_words = [\n",
    "    count_vect.get_feature_names_out()[i] for i in bottom_1_percent_indices\n",
    "]\n",
    "\n",
    "print(f\"Category: {categories[category_number]}\")\n",
    "print(f\"Number of terms in bottom 1%: {bottom_1_percent_index}\")\n",
    "print(f\"Filtered terms: {filtered_words}\")"
   ]
  },
  {
   "cell_type": "code",
   "execution_count": 154,
   "metadata": {},
   "outputs": [
    {
     "data": {
      "text/html": [
       "<div>\n",
       "<style scoped>\n",
       "    .dataframe tbody tr th:only-of-type {\n",
       "        vertical-align: middle;\n",
       "    }\n",
       "\n",
       "    .dataframe tbody tr th {\n",
       "        vertical-align: top;\n",
       "    }\n",
       "\n",
       "    .dataframe thead th {\n",
       "        text-align: right;\n",
       "    }\n",
       "</style>\n",
       "<table border=\"1\" class=\"dataframe\">\n",
       "  <thead>\n",
       "    <tr style=\"text-align: right;\">\n",
       "      <th></th>\n",
       "      <th>07</th>\n",
       "      <th>11</th>\n",
       "      <th>15</th>\n",
       "      <th>16</th>\n",
       "      <th>18</th>\n",
       "      <th>19</th>\n",
       "      <th>1950s</th>\n",
       "      <th>1954</th>\n",
       "      <th>1960</th>\n",
       "      <th>1960s</th>\n",
       "      <th>...</th>\n",
       "      <th>wrote</th>\n",
       "      <th>ya</th>\n",
       "      <th>yarbirds</th>\n",
       "      <th>yardbirds</th>\n",
       "      <th>yeh</th>\n",
       "      <th>yokel</th>\n",
       "      <th>youngster</th>\n",
       "      <th>youthful</th>\n",
       "      <th>youtube</th>\n",
       "      <th>yrs</th>\n",
       "    </tr>\n",
       "  </thead>\n",
       "  <tbody>\n",
       "    <tr>\n",
       "      <th>0</th>\n",
       "      <td>0</td>\n",
       "      <td>0</td>\n",
       "      <td>0</td>\n",
       "      <td>0</td>\n",
       "      <td>0</td>\n",
       "      <td>0</td>\n",
       "      <td>0</td>\n",
       "      <td>0</td>\n",
       "      <td>0</td>\n",
       "      <td>0</td>\n",
       "      <td>...</td>\n",
       "      <td>0</td>\n",
       "      <td>0</td>\n",
       "      <td>0</td>\n",
       "      <td>0</td>\n",
       "      <td>0</td>\n",
       "      <td>0</td>\n",
       "      <td>0</td>\n",
       "      <td>0</td>\n",
       "      <td>0</td>\n",
       "      <td>0</td>\n",
       "    </tr>\n",
       "    <tr>\n",
       "      <th>1</th>\n",
       "      <td>0</td>\n",
       "      <td>0</td>\n",
       "      <td>0</td>\n",
       "      <td>0</td>\n",
       "      <td>0</td>\n",
       "      <td>0</td>\n",
       "      <td>0</td>\n",
       "      <td>0</td>\n",
       "      <td>0</td>\n",
       "      <td>0</td>\n",
       "      <td>...</td>\n",
       "      <td>0</td>\n",
       "      <td>0</td>\n",
       "      <td>0</td>\n",
       "      <td>0</td>\n",
       "      <td>0</td>\n",
       "      <td>0</td>\n",
       "      <td>0</td>\n",
       "      <td>0</td>\n",
       "      <td>0</td>\n",
       "      <td>0</td>\n",
       "    </tr>\n",
       "    <tr>\n",
       "      <th>2</th>\n",
       "      <td>0</td>\n",
       "      <td>0</td>\n",
       "      <td>0</td>\n",
       "      <td>0</td>\n",
       "      <td>0</td>\n",
       "      <td>0</td>\n",
       "      <td>0</td>\n",
       "      <td>0</td>\n",
       "      <td>0</td>\n",
       "      <td>0</td>\n",
       "      <td>...</td>\n",
       "      <td>0</td>\n",
       "      <td>0</td>\n",
       "      <td>0</td>\n",
       "      <td>0</td>\n",
       "      <td>0</td>\n",
       "      <td>0</td>\n",
       "      <td>0</td>\n",
       "      <td>0</td>\n",
       "      <td>0</td>\n",
       "      <td>0</td>\n",
       "    </tr>\n",
       "    <tr>\n",
       "      <th>3</th>\n",
       "      <td>0</td>\n",
       "      <td>0</td>\n",
       "      <td>0</td>\n",
       "      <td>0</td>\n",
       "      <td>0</td>\n",
       "      <td>0</td>\n",
       "      <td>0</td>\n",
       "      <td>0</td>\n",
       "      <td>0</td>\n",
       "      <td>0</td>\n",
       "      <td>...</td>\n",
       "      <td>0</td>\n",
       "      <td>0</td>\n",
       "      <td>0</td>\n",
       "      <td>0</td>\n",
       "      <td>0</td>\n",
       "      <td>0</td>\n",
       "      <td>0</td>\n",
       "      <td>0</td>\n",
       "      <td>0</td>\n",
       "      <td>0</td>\n",
       "    </tr>\n",
       "    <tr>\n",
       "      <th>4</th>\n",
       "      <td>0</td>\n",
       "      <td>0</td>\n",
       "      <td>0</td>\n",
       "      <td>0</td>\n",
       "      <td>0</td>\n",
       "      <td>0</td>\n",
       "      <td>0</td>\n",
       "      <td>0</td>\n",
       "      <td>0</td>\n",
       "      <td>0</td>\n",
       "      <td>...</td>\n",
       "      <td>0</td>\n",
       "      <td>0</td>\n",
       "      <td>0</td>\n",
       "      <td>0</td>\n",
       "      <td>0</td>\n",
       "      <td>0</td>\n",
       "      <td>0</td>\n",
       "      <td>0</td>\n",
       "      <td>0</td>\n",
       "      <td>0</td>\n",
       "    </tr>\n",
       "    <tr>\n",
       "      <th>...</th>\n",
       "      <td>...</td>\n",
       "      <td>...</td>\n",
       "      <td>...</td>\n",
       "      <td>...</td>\n",
       "      <td>...</td>\n",
       "      <td>...</td>\n",
       "      <td>...</td>\n",
       "      <td>...</td>\n",
       "      <td>...</td>\n",
       "      <td>...</td>\n",
       "      <td>...</td>\n",
       "      <td>...</td>\n",
       "      <td>...</td>\n",
       "      <td>...</td>\n",
       "      <td>...</td>\n",
       "      <td>...</td>\n",
       "      <td>...</td>\n",
       "      <td>...</td>\n",
       "      <td>...</td>\n",
       "      <td>...</td>\n",
       "      <td>...</td>\n",
       "    </tr>\n",
       "    <tr>\n",
       "      <th>745</th>\n",
       "      <td>0</td>\n",
       "      <td>0</td>\n",
       "      <td>0</td>\n",
       "      <td>0</td>\n",
       "      <td>0</td>\n",
       "      <td>0</td>\n",
       "      <td>0</td>\n",
       "      <td>0</td>\n",
       "      <td>0</td>\n",
       "      <td>0</td>\n",
       "      <td>...</td>\n",
       "      <td>0</td>\n",
       "      <td>0</td>\n",
       "      <td>0</td>\n",
       "      <td>0</td>\n",
       "      <td>0</td>\n",
       "      <td>0</td>\n",
       "      <td>0</td>\n",
       "      <td>0</td>\n",
       "      <td>0</td>\n",
       "      <td>0</td>\n",
       "    </tr>\n",
       "    <tr>\n",
       "      <th>746</th>\n",
       "      <td>0</td>\n",
       "      <td>0</td>\n",
       "      <td>0</td>\n",
       "      <td>0</td>\n",
       "      <td>0</td>\n",
       "      <td>0</td>\n",
       "      <td>0</td>\n",
       "      <td>0</td>\n",
       "      <td>0</td>\n",
       "      <td>0</td>\n",
       "      <td>...</td>\n",
       "      <td>0</td>\n",
       "      <td>0</td>\n",
       "      <td>0</td>\n",
       "      <td>0</td>\n",
       "      <td>0</td>\n",
       "      <td>0</td>\n",
       "      <td>0</td>\n",
       "      <td>0</td>\n",
       "      <td>0</td>\n",
       "      <td>0</td>\n",
       "    </tr>\n",
       "    <tr>\n",
       "      <th>747</th>\n",
       "      <td>0</td>\n",
       "      <td>0</td>\n",
       "      <td>0</td>\n",
       "      <td>0</td>\n",
       "      <td>0</td>\n",
       "      <td>0</td>\n",
       "      <td>0</td>\n",
       "      <td>0</td>\n",
       "      <td>0</td>\n",
       "      <td>0</td>\n",
       "      <td>...</td>\n",
       "      <td>0</td>\n",
       "      <td>0</td>\n",
       "      <td>0</td>\n",
       "      <td>0</td>\n",
       "      <td>0</td>\n",
       "      <td>0</td>\n",
       "      <td>0</td>\n",
       "      <td>0</td>\n",
       "      <td>0</td>\n",
       "      <td>0</td>\n",
       "    </tr>\n",
       "    <tr>\n",
       "      <th>748</th>\n",
       "      <td>0</td>\n",
       "      <td>0</td>\n",
       "      <td>0</td>\n",
       "      <td>0</td>\n",
       "      <td>0</td>\n",
       "      <td>0</td>\n",
       "      <td>0</td>\n",
       "      <td>1</td>\n",
       "      <td>0</td>\n",
       "      <td>0</td>\n",
       "      <td>...</td>\n",
       "      <td>0</td>\n",
       "      <td>0</td>\n",
       "      <td>0</td>\n",
       "      <td>0</td>\n",
       "      <td>0</td>\n",
       "      <td>0</td>\n",
       "      <td>0</td>\n",
       "      <td>0</td>\n",
       "      <td>0</td>\n",
       "      <td>0</td>\n",
       "    </tr>\n",
       "    <tr>\n",
       "      <th>749</th>\n",
       "      <td>0</td>\n",
       "      <td>0</td>\n",
       "      <td>0</td>\n",
       "      <td>0</td>\n",
       "      <td>0</td>\n",
       "      <td>0</td>\n",
       "      <td>0</td>\n",
       "      <td>0</td>\n",
       "      <td>0</td>\n",
       "      <td>0</td>\n",
       "      <td>...</td>\n",
       "      <td>0</td>\n",
       "      <td>0</td>\n",
       "      <td>0</td>\n",
       "      <td>0</td>\n",
       "      <td>0</td>\n",
       "      <td>0</td>\n",
       "      <td>0</td>\n",
       "      <td>0</td>\n",
       "      <td>0</td>\n",
       "      <td>0</td>\n",
       "    </tr>\n",
       "  </tbody>\n",
       "</table>\n",
       "<p>750 rows × 1910 columns</p>\n",
       "</div>"
      ],
      "text/plain": [
       "     07  11  15  16  18  19  1950s  1954  1960  1960s  ...  wrote  ya  \\\n",
       "0     0   0   0   0   0   0      0     0     0      0  ...      0   0   \n",
       "1     0   0   0   0   0   0      0     0     0      0  ...      0   0   \n",
       "2     0   0   0   0   0   0      0     0     0      0  ...      0   0   \n",
       "3     0   0   0   0   0   0      0     0     0      0  ...      0   0   \n",
       "4     0   0   0   0   0   0      0     0     0      0  ...      0   0   \n",
       "..   ..  ..  ..  ..  ..  ..    ...   ...   ...    ...  ...    ...  ..   \n",
       "745   0   0   0   0   0   0      0     0     0      0  ...      0   0   \n",
       "746   0   0   0   0   0   0      0     0     0      0  ...      0   0   \n",
       "747   0   0   0   0   0   0      0     0     0      0  ...      0   0   \n",
       "748   0   0   0   0   0   0      0     1     0      0  ...      0   0   \n",
       "749   0   0   0   0   0   0      0     0     0      0  ...      0   0   \n",
       "\n",
       "     yarbirds  yardbirds  yeh  yokel  youngster  youthful  youtube  yrs  \n",
       "0           0          0    0      0          0         0        0    0  \n",
       "1           0          0    0      0          0         0        0    0  \n",
       "2           0          0    0      0          0         0        0    0  \n",
       "3           0          0    0      0          0         0        0    0  \n",
       "4           0          0    0      0          0         0        0    0  \n",
       "..        ...        ...  ...    ...        ...       ...      ...  ...  \n",
       "745         0          0    0      0          0         0        0    0  \n",
       "746         0          0    0      0          0         0        0    0  \n",
       "747         0          0    0      0          0         0        0    0  \n",
       "748         0          0    0      0          0         0        0    0  \n",
       "749         0          0    0      0          0         0        0    0  \n",
       "\n",
       "[750 rows x 1910 columns]"
      ]
     },
     "execution_count": 154,
     "metadata": {},
     "output_type": "execute_result"
    }
   ],
   "source": [
    "category_number = 1\n",
    "\n",
    "\n",
    "# Filter the bottom 1% and top 5% words based on their sum across all documents\n",
    "def filter_top_bottom_words_by_sum(\n",
    "    term_document_df, top_percent=0.05, bottom_percent=0.01\n",
    "):\n",
    "    word_sums = term_document_df.sum(axis=0)\n",
    "    # Sort the words by their total sum\n",
    "    sorted_words = word_sums.sort_values()\n",
    "    # Calculate the number of words to remove\n",
    "    total_words = len(sorted_words)\n",
    "    top_n = int(top_percent * total_words)\n",
    "    bottom_n = int(bottom_percent * total_words)\n",
    "\n",
    "    # Get the words to remove from the top 5% and bottom 1%\n",
    "    words_to_remove = pd.concat(\n",
    "        [sorted_words.head(bottom_n), sorted_words.tail(top_n)]\n",
    "    ).index\n",
    "\n",
    "    # Return the DataFrame without the filtered words\n",
    "    return term_document_df.drop(columns=words_to_remove)\n",
    "\n",
    "\n",
    "# Apply the filtering function to each category\n",
    "filtered_term_document_dfs = {}\n",
    "\n",
    "for category in categories:\n",
    "    filtered_term_document_dfs[category] = filter_top_bottom_words_by_sum(\n",
    "        term_document_dfs[category]\n",
    "    )\n",
    "\n",
    "term_document_dfs = filtered_term_document_dfs\n",
    "\n",
    "filtered_term_document_dfs[categories[category_number]]"
   ]
  },
  {
   "cell_type": "code",
   "execution_count": 62,
   "metadata": {},
   "outputs": [
    {
     "name": "stdout",
     "output_type": "stream",
     "text": [
      "Collecting pami==2024.10.24.2\n",
      "  Using cached pami-2024.10.24.2-py3-none-any.whl (1.1 MB)\n",
      "Requirement already satisfied: networkx in ./.venv/lib/python3.9/site-packages (from pami==2024.10.24.2) (3.2.1)\n",
      "Requirement already satisfied: Pillow in ./.venv/lib/python3.9/site-packages (from pami==2024.10.24.2) (11.0.0)\n",
      "Requirement already satisfied: urllib3 in ./.venv/lib/python3.9/site-packages (from pami==2024.10.24.2) (2.2.3)\n",
      "Requirement already satisfied: numpy in ./.venv/lib/python3.9/site-packages (from pami==2024.10.24.2) (2.0.2)\n",
      "Requirement already satisfied: resource in ./.venv/lib/python3.9/site-packages (from pami==2024.10.24.2) (0.2.1)\n",
      "Requirement already satisfied: pandas in ./.venv/lib/python3.9/site-packages (from pami==2024.10.24.2) (2.2.3)\n",
      "Requirement already satisfied: psutil in ./.venv/lib/python3.9/site-packages (from pami==2024.10.24.2) (6.1.0)\n",
      "Requirement already satisfied: sphinx in ./.venv/lib/python3.9/site-packages (from pami==2024.10.24.2) (7.4.7)\n",
      "Requirement already satisfied: matplotlib in ./.venv/lib/python3.9/site-packages (from pami==2024.10.24.2) (3.9.2)\n",
      "Requirement already satisfied: sphinx-rtd-theme in ./.venv/lib/python3.9/site-packages (from pami==2024.10.24.2) (3.0.1)\n",
      "Requirement already satisfied: discord.py in ./.venv/lib/python3.9/site-packages (from pami==2024.10.24.2) (2.4.0)\n",
      "Requirement already satisfied: deprecated in ./.venv/lib/python3.9/site-packages (from pami==2024.10.24.2) (1.2.14)\n",
      "Requirement already satisfied: plotly in ./.venv/lib/python3.9/site-packages (from pami==2024.10.24.2) (5.24.1)\n",
      "Requirement already satisfied: validators in ./.venv/lib/python3.9/site-packages (from pami==2024.10.24.2) (0.34.0)\n",
      "Requirement already satisfied: wrapt<2,>=1.10 in ./.venv/lib/python3.9/site-packages (from deprecated->pami==2024.10.24.2) (1.16.0)\n",
      "Requirement already satisfied: aiohttp<4,>=3.7.4 in ./.venv/lib/python3.9/site-packages (from discord.py->pami==2024.10.24.2) (3.10.10)\n",
      "Requirement already satisfied: cycler>=0.10 in ./.venv/lib/python3.9/site-packages (from matplotlib->pami==2024.10.24.2) (0.12.1)\n",
      "Requirement already satisfied: python-dateutil>=2.7 in ./.venv/lib/python3.9/site-packages (from matplotlib->pami==2024.10.24.2) (2.9.0.post0)\n",
      "Requirement already satisfied: pyparsing>=2.3.1 in ./.venv/lib/python3.9/site-packages (from matplotlib->pami==2024.10.24.2) (3.2.0)\n",
      "Requirement already satisfied: kiwisolver>=1.3.1 in ./.venv/lib/python3.9/site-packages (from matplotlib->pami==2024.10.24.2) (1.4.7)\n",
      "Requirement already satisfied: importlib-resources>=3.2.0 in ./.venv/lib/python3.9/site-packages (from matplotlib->pami==2024.10.24.2) (6.4.5)\n",
      "Requirement already satisfied: packaging>=20.0 in ./.venv/lib/python3.9/site-packages (from matplotlib->pami==2024.10.24.2) (24.1)\n",
      "Requirement already satisfied: fonttools>=4.22.0 in ./.venv/lib/python3.9/site-packages (from matplotlib->pami==2024.10.24.2) (4.54.1)\n",
      "Requirement already satisfied: contourpy>=1.0.1 in ./.venv/lib/python3.9/site-packages (from matplotlib->pami==2024.10.24.2) (1.3.0)\n",
      "Requirement already satisfied: pytz>=2020.1 in ./.venv/lib/python3.9/site-packages (from pandas->pami==2024.10.24.2) (2024.2)\n",
      "Requirement already satisfied: tzdata>=2022.7 in ./.venv/lib/python3.9/site-packages (from pandas->pami==2024.10.24.2) (2024.2)\n",
      "Requirement already satisfied: tenacity>=6.2.0 in ./.venv/lib/python3.9/site-packages (from plotly->pami==2024.10.24.2) (9.0.0)\n",
      "Requirement already satisfied: JsonSir>=0.0.2 in ./.venv/lib/python3.9/site-packages (from resource->pami==2024.10.24.2) (0.0.2)\n",
      "Requirement already satisfied: python-easyconfig>=0.1.0 in ./.venv/lib/python3.9/site-packages (from resource->pami==2024.10.24.2) (0.1.7)\n",
      "Requirement already satisfied: JsonForm>=0.0.2 in ./.venv/lib/python3.9/site-packages (from resource->pami==2024.10.24.2) (0.0.2)\n",
      "Requirement already satisfied: Pygments>=2.17 in ./.venv/lib/python3.9/site-packages (from sphinx->pami==2024.10.24.2) (2.18.0)\n",
      "Requirement already satisfied: importlib-metadata>=6.0 in ./.venv/lib/python3.9/site-packages (from sphinx->pami==2024.10.24.2) (8.5.0)\n",
      "Requirement already satisfied: sphinxcontrib-htmlhelp>=2.0.0 in ./.venv/lib/python3.9/site-packages (from sphinx->pami==2024.10.24.2) (2.1.0)\n",
      "Requirement already satisfied: sphinxcontrib-applehelp in ./.venv/lib/python3.9/site-packages (from sphinx->pami==2024.10.24.2) (2.0.0)\n",
      "Requirement already satisfied: requests>=2.30.0 in ./.venv/lib/python3.9/site-packages (from sphinx->pami==2024.10.24.2) (2.32.3)\n",
      "Requirement already satisfied: docutils<0.22,>=0.20 in ./.venv/lib/python3.9/site-packages (from sphinx->pami==2024.10.24.2) (0.21.2)\n",
      "Requirement already satisfied: babel>=2.13 in ./.venv/lib/python3.9/site-packages (from sphinx->pami==2024.10.24.2) (2.16.0)\n",
      "Requirement already satisfied: sphinxcontrib-serializinghtml>=1.1.9 in ./.venv/lib/python3.9/site-packages (from sphinx->pami==2024.10.24.2) (2.0.0)\n",
      "Requirement already satisfied: imagesize>=1.3 in ./.venv/lib/python3.9/site-packages (from sphinx->pami==2024.10.24.2) (1.4.1)\n",
      "Requirement already satisfied: alabaster~=0.7.14 in ./.venv/lib/python3.9/site-packages (from sphinx->pami==2024.10.24.2) (0.7.16)\n",
      "Requirement already satisfied: sphinxcontrib-jsmath in ./.venv/lib/python3.9/site-packages (from sphinx->pami==2024.10.24.2) (1.0.1)\n",
      "Requirement already satisfied: sphinxcontrib-qthelp in ./.venv/lib/python3.9/site-packages (from sphinx->pami==2024.10.24.2) (2.0.0)\n",
      "Requirement already satisfied: Jinja2>=3.1 in ./.venv/lib/python3.9/site-packages (from sphinx->pami==2024.10.24.2) (3.1.4)\n",
      "Requirement already satisfied: sphinxcontrib-devhelp in ./.venv/lib/python3.9/site-packages (from sphinx->pami==2024.10.24.2) (2.0.0)\n",
      "Requirement already satisfied: snowballstemmer>=2.2 in ./.venv/lib/python3.9/site-packages (from sphinx->pami==2024.10.24.2) (2.2.0)\n",
      "Requirement already satisfied: tomli>=2 in ./.venv/lib/python3.9/site-packages (from sphinx->pami==2024.10.24.2) (2.0.2)\n",
      "Requirement already satisfied: sphinxcontrib-jquery<5,>=4 in ./.venv/lib/python3.9/site-packages (from sphinx-rtd-theme->pami==2024.10.24.2) (4.1)\n",
      "Requirement already satisfied: yarl<2.0,>=1.12.0 in ./.venv/lib/python3.9/site-packages (from aiohttp<4,>=3.7.4->discord.py->pami==2024.10.24.2) (1.16.0)\n",
      "Requirement already satisfied: multidict<7.0,>=4.5 in ./.venv/lib/python3.9/site-packages (from aiohttp<4,>=3.7.4->discord.py->pami==2024.10.24.2) (6.1.0)\n",
      "Requirement already satisfied: frozenlist>=1.1.1 in ./.venv/lib/python3.9/site-packages (from aiohttp<4,>=3.7.4->discord.py->pami==2024.10.24.2) (1.5.0)\n",
      "Requirement already satisfied: aiosignal>=1.1.2 in ./.venv/lib/python3.9/site-packages (from aiohttp<4,>=3.7.4->discord.py->pami==2024.10.24.2) (1.3.1)\n",
      "Requirement already satisfied: async-timeout<5.0,>=4.0 in ./.venv/lib/python3.9/site-packages (from aiohttp<4,>=3.7.4->discord.py->pami==2024.10.24.2) (4.0.3)\n",
      "Requirement already satisfied: aiohappyeyeballs>=2.3.0 in ./.venv/lib/python3.9/site-packages (from aiohttp<4,>=3.7.4->discord.py->pami==2024.10.24.2) (2.4.3)\n",
      "Requirement already satisfied: attrs>=17.3.0 in ./.venv/lib/python3.9/site-packages (from aiohttp<4,>=3.7.4->discord.py->pami==2024.10.24.2) (24.2.0)\n",
      "Requirement already satisfied: zipp>=3.20 in ./.venv/lib/python3.9/site-packages (from importlib-metadata>=6.0->sphinx->pami==2024.10.24.2) (3.20.2)\n",
      "Requirement already satisfied: MarkupSafe>=2.0 in ./.venv/lib/python3.9/site-packages (from Jinja2>=3.1->sphinx->pami==2024.10.24.2) (3.0.2)\n",
      "Requirement already satisfied: jsonschema in ./.venv/lib/python3.9/site-packages (from JsonForm>=0.0.2->resource->pami==2024.10.24.2) (4.23.0)\n",
      "Requirement already satisfied: six>=1.5 in ./.venv/lib/python3.9/site-packages (from python-dateutil>=2.7->matplotlib->pami==2024.10.24.2) (1.16.0)\n",
      "Requirement already satisfied: PyYAML in ./.venv/lib/python3.9/site-packages (from python-easyconfig>=0.1.0->resource->pami==2024.10.24.2) (6.0.2)\n",
      "Requirement already satisfied: certifi>=2017.4.17 in ./.venv/lib/python3.9/site-packages (from requests>=2.30.0->sphinx->pami==2024.10.24.2) (2024.8.30)\n",
      "Requirement already satisfied: charset-normalizer<4,>=2 in ./.venv/lib/python3.9/site-packages (from requests>=2.30.0->sphinx->pami==2024.10.24.2) (3.4.0)\n",
      "Requirement already satisfied: idna<4,>=2.5 in ./.venv/lib/python3.9/site-packages (from requests>=2.30.0->sphinx->pami==2024.10.24.2) (3.10)\n",
      "Requirement already satisfied: typing-extensions>=4.1.0 in ./.venv/lib/python3.9/site-packages (from multidict<7.0,>=4.5->aiohttp<4,>=3.7.4->discord.py->pami==2024.10.24.2) (4.12.2)\n",
      "Requirement already satisfied: propcache>=0.2.0 in ./.venv/lib/python3.9/site-packages (from yarl<2.0,>=1.12.0->aiohttp<4,>=3.7.4->discord.py->pami==2024.10.24.2) (0.2.0)\n",
      "Requirement already satisfied: jsonschema-specifications>=2023.03.6 in ./.venv/lib/python3.9/site-packages (from jsonschema->JsonForm>=0.0.2->resource->pami==2024.10.24.2) (2024.10.1)\n",
      "Requirement already satisfied: rpds-py>=0.7.1 in ./.venv/lib/python3.9/site-packages (from jsonschema->JsonForm>=0.0.2->resource->pami==2024.10.24.2) (0.20.0)\n",
      "Requirement already satisfied: referencing>=0.28.4 in ./.venv/lib/python3.9/site-packages (from jsonschema->JsonForm>=0.0.2->resource->pami==2024.10.24.2) (0.35.1)\n",
      "Installing collected packages: pami\n",
      "  Attempting uninstall: pami\n",
      "    Found existing installation: pami 2023.10.27.1\n",
      "    Uninstalling pami-2023.10.27.1:\n",
      "      Successfully uninstalled pami-2023.10.27.1\n",
      "Successfully installed pami-2024.10.24.2\n",
      "\n",
      "\u001b[1m[\u001b[0m\u001b[34;49mnotice\u001b[0m\u001b[1;39;49m]\u001b[0m\u001b[39;49m A new release of pip is available: \u001b[0m\u001b[31;49m23.0.1\u001b[0m\u001b[39;49m -> \u001b[0m\u001b[32;49m24.2\u001b[0m\n",
      "\u001b[1m[\u001b[0m\u001b[34;49mnotice\u001b[0m\u001b[1;39;49m]\u001b[0m\u001b[39;49m To update, run: \u001b[0m\u001b[32;49mpip install --upgrade pip\u001b[0m\n"
     ]
    }
   ],
   "source": [
    "!pip install -U pami==2024.10.24.2"
   ]
  },
  {
   "cell_type": "code",
   "execution_count": 63,
   "metadata": {},
   "outputs": [
    {
     "ename": "ImportError",
     "evalue": "cannot import name 'DenseFormatDF' from 'PAMI.extras.DF2DB' (/home/rukaton/Work/DM2024-Lab1-Homework/.venv/lib/python3.9/site-packages/PAMI/extras/DF2DB/__init__.py)",
     "output_type": "error",
     "traceback": [
      "\u001b[0;31m---------------------------------------------------------------------------\u001b[0m",
      "\u001b[0;31mImportError\u001b[0m                               Traceback (most recent call last)",
      "Cell \u001b[0;32mIn[63], line 1\u001b[0m\n\u001b[0;32m----> 1\u001b[0m \u001b[38;5;28;01mfrom\u001b[39;00m \u001b[38;5;21;01mPAMI\u001b[39;00m\u001b[38;5;21;01m.\u001b[39;00m\u001b[38;5;21;01mextras\u001b[39;00m\u001b[38;5;21;01m.\u001b[39;00m\u001b[38;5;21;01mDF2DB\u001b[39;00m \u001b[38;5;28;01mimport\u001b[39;00m DenseFormatDF \u001b[38;5;28;01mas\u001b[39;00m db\n\u001b[1;32m      3\u001b[0m \u001b[38;5;66;03m# Loop through the dictionary of term-document DataFrames\u001b[39;00m\n\u001b[1;32m      4\u001b[0m \u001b[38;5;28;01mfor\u001b[39;00m category \u001b[38;5;129;01min\u001b[39;00m term_document_dfs:\n\u001b[1;32m      5\u001b[0m     \u001b[38;5;66;03m# Replace dots with underscores in the category name to avoid errors in the file creation\u001b[39;00m\n",
      "\u001b[0;31mImportError\u001b[0m: cannot import name 'DenseFormatDF' from 'PAMI.extras.DF2DB' (/home/rukaton/Work/DM2024-Lab1-Homework/.venv/lib/python3.9/site-packages/PAMI/extras/DF2DB/__init__.py)"
     ]
    }
   ],
   "source": [
    "from PAMI.extras.DF2DB import DenseFormatDF as db\n",
    "\n",
    "# Loop through the dictionary of term-document DataFrames\n",
    "for category in term_document_dfs:\n",
    "    # Replace dots with underscores in the category name to avoid errors in the file creation\n",
    "    category_safe = category.replace(\".\", \"_\")\n",
    "\n",
    "    # Create the DenseFormatDF object and convert to a transactional database\n",
    "    obj = db.DenseFormatDF(term_document_dfs[category])\n",
    "    obj.convert2TransactionalDatabase(f\"td_freq_db_{category_safe}.csv\", \">=\", 1)"
   ]
  }
 ],
 "metadata": {
  "kernelspec": {
   "display_name": ".venv",
   "language": "python",
   "name": "python3"
  },
  "language_info": {
   "codemirror_mode": {
    "name": "ipython",
    "version": 3
   },
   "file_extension": ".py",
   "mimetype": "text/x-python",
   "name": "python",
   "nbconvert_exporter": "python",
   "pygments_lexer": "ipython3",
   "version": "3.9.20"
  }
 },
 "nbformat": 4,
 "nbformat_minor": 2
}
